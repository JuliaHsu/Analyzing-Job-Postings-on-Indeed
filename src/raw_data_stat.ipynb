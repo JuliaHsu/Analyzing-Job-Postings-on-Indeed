{
 "metadata": {
  "language_info": {
   "codemirror_mode": {
    "name": "ipython",
    "version": 3
   },
   "file_extension": ".py",
   "mimetype": "text/x-python",
   "name": "python",
   "nbconvert_exporter": "python",
   "pygments_lexer": "ipython3",
   "version": "3.8.3-final"
  },
  "orig_nbformat": 2,
  "kernelspec": {
   "name": "python3",
   "display_name": "Python 3.8.3 64-bit ('base': conda)",
   "metadata": {
    "interpreter": {
     "hash": "dca0ade3e726a953b501b15e8e990130d2b7799f14cfd9f4271676035ebe5511"
    }
   }
  }
 },
 "nbformat": 4,
 "nbformat_minor": 2,
 "cells": [
  {
   "cell_type": "code",
   "execution_count": 1,
   "metadata": {},
   "outputs": [],
   "source": [
    "import json\n",
    "import numpy as np\n",
    "import pandas as pd\n",
    "import os\n",
    "import re\n",
    "import glob\n",
    "import csv\n",
    "INDEED_JOB_POSTING_DATA = \"/Users/julia/OneDrive - George Mason University/researchProject/4_JobPosting/data/\"\n"
   ]
  },
  {
   "cell_type": "code",
   "execution_count": 40,
   "metadata": {},
   "outputs": [],
   "source": [
    "def read_json(dataset):\n",
    "    data_dict = {}\n",
    "    data_json = glob.glob( INDEED_JOB_POSTING_DATA + dataset + \"*.json\")\n",
    "    indeed_df = pd.DataFrame()\n",
    "    for i, json_file in enumerate(data_json):\n",
    "        raw_df = pd.read_json(json_file,lines=True)\n",
    "        data_dict[i] = raw_df\n",
    "    lst_result = [values for values in data_dict.values()]\n",
    "    indeed_df = indeed_df.append(lst_result)\n",
    "    return indeed_df"
   ]
  },
  {
   "cell_type": "code",
   "execution_count": 32,
   "metadata": {},
   "outputs": [],
   "source": [
    "def read_csv(dataset):\n",
    "    data_csv = glob.glob( INDEED_JOB_POSTING_DATA + dataset + \"*.csv\")\n",
    "    indeed_df = pd.DataFrame()\n",
    "    for i, csv_file in enumerate(data_csv):\n",
    "        raw_df = pd.read_csv(csv_file)\n",
    "        indeed_df = indeed_df.append(raw_df)\n",
    "    return indeed_df"
   ]
  },
  {
   "cell_type": "code",
   "execution_count": 39,
   "metadata": {},
   "outputs": [
    {
     "output_type": "stream",
     "name": "stdout",
     "text": [
      "['/Users/julia/OneDrive - George Mason University/researchProject/4_JobPosting/data/Indeed_2020/20200401_20200630_30k_data.json']\n"
     ]
    },
    {
     "output_type": "execute_result",
     "data": {
      "text/plain": [
       "                            uniq_id            crawl_timestamp  \\\n",
       "0  970589e837dfe5d7b96a4edb68ed53fc  2020-06-27 22:48:05 +0000   \n",
       "1  5b8e77e647a868558bd14d77faa20d11  2020-06-03 14:34:46 +0000   \n",
       "2  ffaa733004c1791099e8481a5fead2e4  2020-05-10 03:25:40 +0000   \n",
       "3  6388e9094ff67beb57a04c1bb84613d1  2020-05-30 06:55:44 +0000   \n",
       "4  f34f23997811c9c163d9c14347725cd0  2020-05-14 07:10:50 +0000   \n",
       "\n",
       "                                                 url  \\\n",
       "0  https://www.indeed.com/viewjob?jk=6e2f10dbcc82...   \n",
       "1  https://www.indeed.com/viewjob?jk=e2ef934dfe3d...   \n",
       "2  https://www.indeed.com/cmp/ZEELAND-FARM-SERVIC...   \n",
       "3  https://www.indeed.com/viewjob?jk=e44bcf868eea...   \n",
       "4  https://www.indeed.com/viewjob?jk=b551a641bce8...   \n",
       "\n",
       "                             job_title                    category  \\\n",
       "0                    Assistant Teacher       Education-or-training   \n",
       "1                          Team Member  Restaurant-or-food-Service   \n",
       "2  Driver ZFS - Elevator Miscellaneous  Construction-or-facilities   \n",
       "3            NURSE (FLIGHT OPERATIONS)       Accounting-or-finance   \n",
       "4            Sr Mgr, Clinic Operations              Administrative   \n",
       "\n",
       "                                        company_name         city state  \\\n",
       "0                        Tutor Time Learning Centers       Powell    OH   \n",
       "1  Jack's Family Restaurant | Jacks Family Restau...      Gadsden    AL   \n",
       "2                        Zeeland Farm Services, Inc.      Zeeland    MI   \n",
       "3                     US Department of the Air Force  Keesler AFB    MS   \n",
       "4                                              Emory      Decatur    GA   \n",
       "\n",
       "  country   post_date  ... salary_offered test_contact_email contact_email  \\\n",
       "0      US  2020-06-27  ...            NaN                NaN           NaN   \n",
       "1      US  2020-06-03  ...            NaN                NaN           NaN   \n",
       "2      US  2020-05-10  ...            NaN                NaN           NaN   \n",
       "3      US  2020-05-30  ...            NaN                NaN           NaN   \n",
       "4      US  2020-05-14  ...            NaN                NaN           NaN   \n",
       "\n",
       "  inferred_salary_time_unit inferred_salary_currency is_currency_valid  \\\n",
       "0                       NaN                      NaN               NaN   \n",
       "1                       NaN                      NaN               NaN   \n",
       "2                       NaN                      NaN               NaN   \n",
       "3                       NaN                      NaN               NaN   \n",
       "4                       NaN                      NaN               NaN   \n",
       "\n",
       "  is_salary_unit_correct is_from_range_valid is_to_range_valid dataset  \n",
       "0                    NaN                 NaN               NaN     NaN  \n",
       "1                    NaN                 NaN               NaN     NaN  \n",
       "2                    NaN                 NaN               NaN     NaN  \n",
       "3                    NaN                 NaN               NaN     NaN  \n",
       "4                    NaN                 NaN               NaN     NaN  \n",
       "\n",
       "[5 rows x 43 columns]"
      ],
      "text/html": "<div>\n<style scoped>\n    .dataframe tbody tr th:only-of-type {\n        vertical-align: middle;\n    }\n\n    .dataframe tbody tr th {\n        vertical-align: top;\n    }\n\n    .dataframe thead th {\n        text-align: right;\n    }\n</style>\n<table border=\"1\" class=\"dataframe\">\n  <thead>\n    <tr style=\"text-align: right;\">\n      <th></th>\n      <th>uniq_id</th>\n      <th>crawl_timestamp</th>\n      <th>url</th>\n      <th>job_title</th>\n      <th>category</th>\n      <th>company_name</th>\n      <th>city</th>\n      <th>state</th>\n      <th>country</th>\n      <th>post_date</th>\n      <th>...</th>\n      <th>salary_offered</th>\n      <th>test_contact_email</th>\n      <th>contact_email</th>\n      <th>inferred_salary_time_unit</th>\n      <th>inferred_salary_currency</th>\n      <th>is_currency_valid</th>\n      <th>is_salary_unit_correct</th>\n      <th>is_from_range_valid</th>\n      <th>is_to_range_valid</th>\n      <th>dataset</th>\n    </tr>\n  </thead>\n  <tbody>\n    <tr>\n      <th>0</th>\n      <td>970589e837dfe5d7b96a4edb68ed53fc</td>\n      <td>2020-06-27 22:48:05 +0000</td>\n      <td>https://www.indeed.com/viewjob?jk=6e2f10dbcc82...</td>\n      <td>Assistant Teacher</td>\n      <td>Education-or-training</td>\n      <td>Tutor Time Learning Centers</td>\n      <td>Powell</td>\n      <td>OH</td>\n      <td>US</td>\n      <td>2020-06-27</td>\n      <td>...</td>\n      <td>NaN</td>\n      <td>NaN</td>\n      <td>NaN</td>\n      <td>NaN</td>\n      <td>NaN</td>\n      <td>NaN</td>\n      <td>NaN</td>\n      <td>NaN</td>\n      <td>NaN</td>\n      <td>NaN</td>\n    </tr>\n    <tr>\n      <th>1</th>\n      <td>5b8e77e647a868558bd14d77faa20d11</td>\n      <td>2020-06-03 14:34:46 +0000</td>\n      <td>https://www.indeed.com/viewjob?jk=e2ef934dfe3d...</td>\n      <td>Team Member</td>\n      <td>Restaurant-or-food-Service</td>\n      <td>Jack's Family Restaurant | Jacks Family Restau...</td>\n      <td>Gadsden</td>\n      <td>AL</td>\n      <td>US</td>\n      <td>2020-06-03</td>\n      <td>...</td>\n      <td>NaN</td>\n      <td>NaN</td>\n      <td>NaN</td>\n      <td>NaN</td>\n      <td>NaN</td>\n      <td>NaN</td>\n      <td>NaN</td>\n      <td>NaN</td>\n      <td>NaN</td>\n      <td>NaN</td>\n    </tr>\n    <tr>\n      <th>2</th>\n      <td>ffaa733004c1791099e8481a5fead2e4</td>\n      <td>2020-05-10 03:25:40 +0000</td>\n      <td>https://www.indeed.com/cmp/ZEELAND-FARM-SERVIC...</td>\n      <td>Driver ZFS - Elevator Miscellaneous</td>\n      <td>Construction-or-facilities</td>\n      <td>Zeeland Farm Services, Inc.</td>\n      <td>Zeeland</td>\n      <td>MI</td>\n      <td>US</td>\n      <td>2020-05-10</td>\n      <td>...</td>\n      <td>NaN</td>\n      <td>NaN</td>\n      <td>NaN</td>\n      <td>NaN</td>\n      <td>NaN</td>\n      <td>NaN</td>\n      <td>NaN</td>\n      <td>NaN</td>\n      <td>NaN</td>\n      <td>NaN</td>\n    </tr>\n    <tr>\n      <th>3</th>\n      <td>6388e9094ff67beb57a04c1bb84613d1</td>\n      <td>2020-05-30 06:55:44 +0000</td>\n      <td>https://www.indeed.com/viewjob?jk=e44bcf868eea...</td>\n      <td>NURSE (FLIGHT OPERATIONS)</td>\n      <td>Accounting-or-finance</td>\n      <td>US Department of the Air Force</td>\n      <td>Keesler AFB</td>\n      <td>MS</td>\n      <td>US</td>\n      <td>2020-05-30</td>\n      <td>...</td>\n      <td>NaN</td>\n      <td>NaN</td>\n      <td>NaN</td>\n      <td>NaN</td>\n      <td>NaN</td>\n      <td>NaN</td>\n      <td>NaN</td>\n      <td>NaN</td>\n      <td>NaN</td>\n      <td>NaN</td>\n    </tr>\n    <tr>\n      <th>4</th>\n      <td>f34f23997811c9c163d9c14347725cd0</td>\n      <td>2020-05-14 07:10:50 +0000</td>\n      <td>https://www.indeed.com/viewjob?jk=b551a641bce8...</td>\n      <td>Sr Mgr, Clinic Operations</td>\n      <td>Administrative</td>\n      <td>Emory</td>\n      <td>Decatur</td>\n      <td>GA</td>\n      <td>US</td>\n      <td>2020-05-14</td>\n      <td>...</td>\n      <td>NaN</td>\n      <td>NaN</td>\n      <td>NaN</td>\n      <td>NaN</td>\n      <td>NaN</td>\n      <td>NaN</td>\n      <td>NaN</td>\n      <td>NaN</td>\n      <td>NaN</td>\n      <td>NaN</td>\n    </tr>\n  </tbody>\n</table>\n<p>5 rows × 43 columns</p>\n</div>"
     },
     "metadata": {},
     "execution_count": 39
    }
   ],
   "source": [
    "indeed_2020_df = read_json('Indeed_2020/')\n",
    "indeed_2020_df.drop_duplicates()\n",
    "print(\"number of jobs: \" + str(indeed_2020_df.shape[0]))\n",
    "indeed_2020_df.head() "
   ]
  },
  {
   "cell_type": "code",
   "execution_count": 15,
   "metadata": {},
   "outputs": [
    {
     "output_type": "execute_result",
     "data": {
      "text/plain": [
       "Index(['uniq_id', 'crawl_timestamp', 'url', 'job_title', 'category',\n",
       "       'company_name', 'city', 'state', 'country', 'post_date',\n",
       "       'job_description', 'job_type', 'company_description', 'job_board',\n",
       "       'geo', 'job_post_lang', 'inferred_iso2_lang_code',\n",
       "       'inferred_iso3_lang_code', 'site_name', 'html_job_description',\n",
       "       'domain', 'postdate_yyyymmdd', 'has_expired', 'last_expiry_check_date',\n",
       "       'latest_expiry_check_date', 'duplicate_status',\n",
       "       'postdate_in_indexname_format', 'inferred_city', 'inferred_state',\n",
       "       'inferred_country', 'fitness_score', 'inferred_salary_from',\n",
       "       'inferred_salary_to', 'salary_offered', 'test_contact_email',\n",
       "       'contact_email', 'inferred_salary_time_unit',\n",
       "       'inferred_salary_currency', 'is_currency_valid',\n",
       "       'is_salary_unit_correct', 'is_from_range_valid', 'is_to_range_valid',\n",
       "       'dataset'],\n",
       "      dtype='object')"
      ]
     },
     "metadata": {},
     "execution_count": 15
    }
   ],
   "source": [
    "indeed_2020_df.columns"
   ]
  },
  {
   "cell_type": "code",
   "execution_count": 41,
   "metadata": {},
   "outputs": [
    {
     "output_type": "execute_result",
     "data": {
      "text/plain": [
       "                                      job_type  uniq_id\n",
       "0   $12 - $15 an hour  -  Full-time, Part-time        1\n",
       "1                                   Commission      120\n",
       "2                         Commission|Volunteer        1\n",
       "3                                     Contract      222\n",
       "4                          Contract|Commission        8\n",
       "5                           Contract|Volunteer        1\n",
       "6                                    Full-time     5514\n",
       "7                         Full-time, Part-time        1\n",
       "8                         Full-time|Commission      180\n",
       "9                           Full-time|Contract      182\n",
       "10               Full-time|Contract|Commission        6\n",
       "11                        Full-time|Internship        6\n",
       "12                         Full-time|Temporary       53\n",
       "13                Full-time|Temporary|Contract        5\n",
       "14                         Full-time|Volunteer        4\n",
       "15                           Full-time|Walk-in        1\n",
       "16                                  Internship       24\n",
       "17                       Internship|Commission        1\n",
       "18                                   Part-time      796\n",
       "19                        Part-time|Commission        4\n",
       "20                          Part-time|Contract       23\n",
       "21                         Part-time|Full-time      652\n",
       "22              Part-time|Full-time|Commission        6\n",
       "23                Part-time|Full-time|Contract       32\n",
       "24     Part-time|Full-time|Contract|Commission        2\n",
       "25              Part-time|Full-time|Internship        1\n",
       "26   Part-time|Full-time|Internship|Commission        1\n",
       "27               Part-time|Full-time|Temporary       33\n",
       "28      Part-time|Full-time|Temporary|Contract        3\n",
       "29                        Part-time|Internship        4\n",
       "30                         Part-time|Temporary       22\n",
       "31              Part-time|Temporary|Commission        1\n",
       "32                Part-time|Temporary|Contract        3\n",
       "33              Part-time|Temporary|Internship        2\n",
       "34                         Part-time|Volunteer        1\n",
       "35                                   Temporary       60\n",
       "36                          Temporary|Contract        6\n",
       "37                                   Volunteer       25"
      ],
      "text/html": "<div>\n<style scoped>\n    .dataframe tbody tr th:only-of-type {\n        vertical-align: middle;\n    }\n\n    .dataframe tbody tr th {\n        vertical-align: top;\n    }\n\n    .dataframe thead th {\n        text-align: right;\n    }\n</style>\n<table border=\"1\" class=\"dataframe\">\n  <thead>\n    <tr style=\"text-align: right;\">\n      <th></th>\n      <th>job_type</th>\n      <th>uniq_id</th>\n    </tr>\n  </thead>\n  <tbody>\n    <tr>\n      <th>0</th>\n      <td>$12 - $15 an hour  -  Full-time, Part-time</td>\n      <td>1</td>\n    </tr>\n    <tr>\n      <th>1</th>\n      <td>Commission</td>\n      <td>120</td>\n    </tr>\n    <tr>\n      <th>2</th>\n      <td>Commission|Volunteer</td>\n      <td>1</td>\n    </tr>\n    <tr>\n      <th>3</th>\n      <td>Contract</td>\n      <td>222</td>\n    </tr>\n    <tr>\n      <th>4</th>\n      <td>Contract|Commission</td>\n      <td>8</td>\n    </tr>\n    <tr>\n      <th>5</th>\n      <td>Contract|Volunteer</td>\n      <td>1</td>\n    </tr>\n    <tr>\n      <th>6</th>\n      <td>Full-time</td>\n      <td>5514</td>\n    </tr>\n    <tr>\n      <th>7</th>\n      <td>Full-time, Part-time</td>\n      <td>1</td>\n    </tr>\n    <tr>\n      <th>8</th>\n      <td>Full-time|Commission</td>\n      <td>180</td>\n    </tr>\n    <tr>\n      <th>9</th>\n      <td>Full-time|Contract</td>\n      <td>182</td>\n    </tr>\n    <tr>\n      <th>10</th>\n      <td>Full-time|Contract|Commission</td>\n      <td>6</td>\n    </tr>\n    <tr>\n      <th>11</th>\n      <td>Full-time|Internship</td>\n      <td>6</td>\n    </tr>\n    <tr>\n      <th>12</th>\n      <td>Full-time|Temporary</td>\n      <td>53</td>\n    </tr>\n    <tr>\n      <th>13</th>\n      <td>Full-time|Temporary|Contract</td>\n      <td>5</td>\n    </tr>\n    <tr>\n      <th>14</th>\n      <td>Full-time|Volunteer</td>\n      <td>4</td>\n    </tr>\n    <tr>\n      <th>15</th>\n      <td>Full-time|Walk-in</td>\n      <td>1</td>\n    </tr>\n    <tr>\n      <th>16</th>\n      <td>Internship</td>\n      <td>24</td>\n    </tr>\n    <tr>\n      <th>17</th>\n      <td>Internship|Commission</td>\n      <td>1</td>\n    </tr>\n    <tr>\n      <th>18</th>\n      <td>Part-time</td>\n      <td>796</td>\n    </tr>\n    <tr>\n      <th>19</th>\n      <td>Part-time|Commission</td>\n      <td>4</td>\n    </tr>\n    <tr>\n      <th>20</th>\n      <td>Part-time|Contract</td>\n      <td>23</td>\n    </tr>\n    <tr>\n      <th>21</th>\n      <td>Part-time|Full-time</td>\n      <td>652</td>\n    </tr>\n    <tr>\n      <th>22</th>\n      <td>Part-time|Full-time|Commission</td>\n      <td>6</td>\n    </tr>\n    <tr>\n      <th>23</th>\n      <td>Part-time|Full-time|Contract</td>\n      <td>32</td>\n    </tr>\n    <tr>\n      <th>24</th>\n      <td>Part-time|Full-time|Contract|Commission</td>\n      <td>2</td>\n    </tr>\n    <tr>\n      <th>25</th>\n      <td>Part-time|Full-time|Internship</td>\n      <td>1</td>\n    </tr>\n    <tr>\n      <th>26</th>\n      <td>Part-time|Full-time|Internship|Commission</td>\n      <td>1</td>\n    </tr>\n    <tr>\n      <th>27</th>\n      <td>Part-time|Full-time|Temporary</td>\n      <td>33</td>\n    </tr>\n    <tr>\n      <th>28</th>\n      <td>Part-time|Full-time|Temporary|Contract</td>\n      <td>3</td>\n    </tr>\n    <tr>\n      <th>29</th>\n      <td>Part-time|Internship</td>\n      <td>4</td>\n    </tr>\n    <tr>\n      <th>30</th>\n      <td>Part-time|Temporary</td>\n      <td>22</td>\n    </tr>\n    <tr>\n      <th>31</th>\n      <td>Part-time|Temporary|Commission</td>\n      <td>1</td>\n    </tr>\n    <tr>\n      <th>32</th>\n      <td>Part-time|Temporary|Contract</td>\n      <td>3</td>\n    </tr>\n    <tr>\n      <th>33</th>\n      <td>Part-time|Temporary|Internship</td>\n      <td>2</td>\n    </tr>\n    <tr>\n      <th>34</th>\n      <td>Part-time|Volunteer</td>\n      <td>1</td>\n    </tr>\n    <tr>\n      <th>35</th>\n      <td>Temporary</td>\n      <td>60</td>\n    </tr>\n    <tr>\n      <th>36</th>\n      <td>Temporary|Contract</td>\n      <td>6</td>\n    </tr>\n    <tr>\n      <th>37</th>\n      <td>Volunteer</td>\n      <td>25</td>\n    </tr>\n  </tbody>\n</table>\n</div>"
     },
     "metadata": {},
     "execution_count": 41
    }
   ],
   "source": [
    "indeed_2020_df.groupby('job_type').agg('count')['uniq_id'].reset_index()"
   ]
  },
  {
   "cell_type": "code",
   "execution_count": 42,
   "metadata": {},
   "outputs": [
    {
     "output_type": "execute_result",
     "data": {
      "text/plain": [
       "                               category  uniq_id\n",
       "1                        Administrative     3750\n",
       "10                           Healthcare     3178\n",
       "16          Manufacturing-or-mechanical     2694\n",
       "5            Construction-or-facilities     2439\n",
       "4                  Computer-or-internet     2032\n",
       "23                                Sales     1955\n",
       "25          Transportation-or-logistics     1508\n",
       "21           Restaurant-or-food-Service     1504\n",
       "0                 Accounting-or-finance     1396\n",
       "6                      Customer-Service     1215\n",
       "22                               Retail     1080\n",
       "7                 Education-or-training     1043\n",
       "8           Engineering-or-architecture      869\n",
       "13                            Insurance      733\n",
       "17       Marketing-or-advertising-or-pr      670\n",
       "26       Upper-Management-or-consulting      612\n",
       "12                      Human-Resources      592\n",
       "18              Non-profit/volunteering      419\n",
       "3                      Banking-or-loans      403\n",
       "14          Law-Enforcement-or-security      351\n",
       "11                Hospitality-or-travel      348\n",
       "2   Arts-or-entertainment-or-publishing      302\n",
       "15                                Legal      292\n",
       "9                Government-or-military      212\n",
       "19              Pharmaceutical/bio-tech      169\n",
       "20                          Real-Estate      144\n",
       "24                   Telecommunications       85"
      ],
      "text/html": "<div>\n<style scoped>\n    .dataframe tbody tr th:only-of-type {\n        vertical-align: middle;\n    }\n\n    .dataframe tbody tr th {\n        vertical-align: top;\n    }\n\n    .dataframe thead th {\n        text-align: right;\n    }\n</style>\n<table border=\"1\" class=\"dataframe\">\n  <thead>\n    <tr style=\"text-align: right;\">\n      <th></th>\n      <th>category</th>\n      <th>uniq_id</th>\n    </tr>\n  </thead>\n  <tbody>\n    <tr>\n      <th>1</th>\n      <td>Administrative</td>\n      <td>3750</td>\n    </tr>\n    <tr>\n      <th>10</th>\n      <td>Healthcare</td>\n      <td>3178</td>\n    </tr>\n    <tr>\n      <th>16</th>\n      <td>Manufacturing-or-mechanical</td>\n      <td>2694</td>\n    </tr>\n    <tr>\n      <th>5</th>\n      <td>Construction-or-facilities</td>\n      <td>2439</td>\n    </tr>\n    <tr>\n      <th>4</th>\n      <td>Computer-or-internet</td>\n      <td>2032</td>\n    </tr>\n    <tr>\n      <th>23</th>\n      <td>Sales</td>\n      <td>1955</td>\n    </tr>\n    <tr>\n      <th>25</th>\n      <td>Transportation-or-logistics</td>\n      <td>1508</td>\n    </tr>\n    <tr>\n      <th>21</th>\n      <td>Restaurant-or-food-Service</td>\n      <td>1504</td>\n    </tr>\n    <tr>\n      <th>0</th>\n      <td>Accounting-or-finance</td>\n      <td>1396</td>\n    </tr>\n    <tr>\n      <th>6</th>\n      <td>Customer-Service</td>\n      <td>1215</td>\n    </tr>\n    <tr>\n      <th>22</th>\n      <td>Retail</td>\n      <td>1080</td>\n    </tr>\n    <tr>\n      <th>7</th>\n      <td>Education-or-training</td>\n      <td>1043</td>\n    </tr>\n    <tr>\n      <th>8</th>\n      <td>Engineering-or-architecture</td>\n      <td>869</td>\n    </tr>\n    <tr>\n      <th>13</th>\n      <td>Insurance</td>\n      <td>733</td>\n    </tr>\n    <tr>\n      <th>17</th>\n      <td>Marketing-or-advertising-or-pr</td>\n      <td>670</td>\n    </tr>\n    <tr>\n      <th>26</th>\n      <td>Upper-Management-or-consulting</td>\n      <td>612</td>\n    </tr>\n    <tr>\n      <th>12</th>\n      <td>Human-Resources</td>\n      <td>592</td>\n    </tr>\n    <tr>\n      <th>18</th>\n      <td>Non-profit/volunteering</td>\n      <td>419</td>\n    </tr>\n    <tr>\n      <th>3</th>\n      <td>Banking-or-loans</td>\n      <td>403</td>\n    </tr>\n    <tr>\n      <th>14</th>\n      <td>Law-Enforcement-or-security</td>\n      <td>351</td>\n    </tr>\n    <tr>\n      <th>11</th>\n      <td>Hospitality-or-travel</td>\n      <td>348</td>\n    </tr>\n    <tr>\n      <th>2</th>\n      <td>Arts-or-entertainment-or-publishing</td>\n      <td>302</td>\n    </tr>\n    <tr>\n      <th>15</th>\n      <td>Legal</td>\n      <td>292</td>\n    </tr>\n    <tr>\n      <th>9</th>\n      <td>Government-or-military</td>\n      <td>212</td>\n    </tr>\n    <tr>\n      <th>19</th>\n      <td>Pharmaceutical/bio-tech</td>\n      <td>169</td>\n    </tr>\n    <tr>\n      <th>20</th>\n      <td>Real-Estate</td>\n      <td>144</td>\n    </tr>\n    <tr>\n      <th>24</th>\n      <td>Telecommunications</td>\n      <td>85</td>\n    </tr>\n  </tbody>\n</table>\n</div>"
     },
     "metadata": {},
     "execution_count": 42
    }
   ],
   "source": [
    "df = indeed_2020_df.groupby('category').agg('count')['uniq_id'].reset_index()\n",
    "df.sort_values(by = ['uniq_id'], ascending = False)"
   ]
  },
  {
   "cell_type": "code",
   "execution_count": 36,
   "metadata": {},
   "outputs": [
    {
     "output_type": "stream",
     "name": "stdout",
     "text": [
      "['/Users/julia/OneDrive - George Mason University/researchProject/4_JobPosting/data/preCovid/20190501_20190731.json', '/Users/julia/OneDrive - George Mason University/researchProject/4_JobPosting/data/preCovid/20190601_20190930.json']\n"
     ]
    },
    {
     "output_type": "execute_result",
     "data": {
      "text/plain": [
       "                             uniq_id            crawl_timestamp  \\\n",
       "0   f1f521b137e040af77495ef053033c1d  2019-06-15 06:58:56 +0000   \n",
       "1   6782dc813048ff8feca7c07d8279e456  2019-06-20 07:33:26 +0000   \n",
       "2   8d5d487901c993190fdf129902b7cc0e  2019-05-25 08:15:32 +0000   \n",
       "3   26d36e31ed78556dc241cb418f672afc  2019-05-19 08:51:04 +0000   \n",
       "4   8cca34bf3a41246d4e7ee76d4cbeede8  2019-05-24 08:28:23 +0000   \n",
       "..                               ...                        ...   \n",
       "25  4ea937be8f1f22cc5c5e0e328c41386f  2019-08-03 10:33:39 +0000   \n",
       "26  afc3de827adf8033be442978fb62af89  2019-08-03 10:27:55 +0000   \n",
       "27  98e044981bd99b9d9f04c5b8efffde9e  2019-08-03 10:38:24 +0000   \n",
       "28  0fb5dc2c0c227400e64874afb8bbf2dc  2019-08-03 10:36:34 +0000   \n",
       "29  7ce390dbaba21f268c1b3ba4f42be9dd  2019-08-03 10:35:50 +0000   \n",
       "\n",
       "                                                  url  \\\n",
       "0   https://ca.indeed.com/viewjob?jk=addd6d52ad95671a   \n",
       "1   https://www.indeed.com/viewjob?jk=21a20005cda7...   \n",
       "2   https://www.indeed.com/viewjob?jk=3c49ca6367e2...   \n",
       "3   https://www.indeed.com/viewjob?jk=28ca41c90fa1...   \n",
       "4   https://www.indeed.com/viewjob?jk=6bee5df180fd...   \n",
       "..                                                ...   \n",
       "25  https://www.indeed.com/viewjob?jk=9695cff9a16b...   \n",
       "26  https://www.indeed.com/viewjob?jk=1dd2122352b4...   \n",
       "27  https://www.indeed.com/viewjob?jk=0df3d9e5c303...   \n",
       "28  https://www.indeed.com/viewjob?jk=fab446a18eb2...   \n",
       "29  https://www.indeed.com/viewjob?jk=13e1b1c77ecf...   \n",
       "\n",
       "                                            job_title  \\\n",
       "0                                     Valet Attendant   \n",
       "1      Office Associate (10-15 Hours Per Week) Clovis   \n",
       "2                                           Line Cook   \n",
       "3                                     Solar Installer   \n",
       "4                                Claims Administrator   \n",
       "..                                                ...   \n",
       "25                           Field Service Technician   \n",
       "26                       Branch/Profit Center Manager   \n",
       "27  Administrative Service Coordinator-Neurology A...   \n",
       "28                          Lead Valet Attendant (FT)   \n",
       "29         Director International & Graduate Programs   \n",
       "\n",
       "                   category  \\\n",
       "0          Customer-Service   \n",
       "1            Administrative   \n",
       "2   Restaurant/Food+Service   \n",
       "3   Construction/Facilities   \n",
       "4                 Insurance   \n",
       "..                      ...   \n",
       "25         Customer-Service   \n",
       "26                    Sales   \n",
       "27    Education-or-training   \n",
       "28         Customer-Service   \n",
       "29                    Legal   \n",
       "\n",
       "                                         company_name         city     state  \\\n",
       "0                                              Intact      Toronto        ON   \n",
       "1                                    Transform SR LLC       Clovis  CA 93612   \n",
       "2                           Saltgrass Parker (Denver)       Parker        CO   \n",
       "3                                      Chico Electric        Chico  CA 95973   \n",
       "4                                Brink's Incorporated      Coppell  TX 75019   \n",
       "..                                                ...          ...       ...   \n",
       "25                                  Jesco Inc.-Beacon       Beacon        NY   \n",
       "26  Company Info Follow Get job updates from Sunbe...       Irving  TX 75062   \n",
       "27  Company Info Follow Get job updates from Child...       Aurora        CO   \n",
       "28                                        ABM - Tampa  Baton Rouge        LA   \n",
       "29  Company Info Follow Get job updates from Stets...     Gulfport        FL   \n",
       "\n",
       "   country   post_date  ... job_post_lang  \\\n",
       "0       CA  2019-06-18  ...           NaN   \n",
       "1       US  2019-06-20  ...           NaN   \n",
       "2      Usa  2019-05-25  ...           NaN   \n",
       "3      Usa  2019-05-18  ...           NaN   \n",
       "4      Usa  2019-05-24  ...           NaN   \n",
       "..     ...         ...  ...           ...   \n",
       "25      US  2019-08-03  ...            en   \n",
       "26      US  2019-08-03  ...            en   \n",
       "27      US  2019-08-03  ...            en   \n",
       "28      US  2019-08-03  ...            en   \n",
       "29      US  2019-08-03  ...            en   \n",
       "\n",
       "                                            site_name      domain  \\\n",
       "0                                                 NaN         NaN   \n",
       "1                                                 NaN         NaN   \n",
       "2                                                 NaN         NaN   \n",
       "3                                                 NaN         NaN   \n",
       "4                                                 NaN         NaN   \n",
       "..                                                ...         ...   \n",
       "25  indeed_usa_com_job_board_common_setup_pc_jobspikr  indeed_com   \n",
       "26  indeed_usa_com_job_board_common_setup_pc_jobspikr  indeed_com   \n",
       "27  indeed_usa_com_job_board_common_setup_pc_jobspikr  indeed_com   \n",
       "28  indeed_usa_com_job_board_common_setup_pc_jobspikr  indeed_com   \n",
       "29  indeed_usa_com_job_board_common_setup_pc_jobspikr  indeed_com   \n",
       "\n",
       "   postdate_in_indexname_format postdate_yyyymmdd  job_requirements  \\\n",
       "0                           NaN               NaN               NaN   \n",
       "1                           NaN               NaN               NaN   \n",
       "2                           NaN               NaN               NaN   \n",
       "3                           NaN               NaN               NaN   \n",
       "4                           NaN               NaN               NaN   \n",
       "..                          ...               ...               ...   \n",
       "25                   2019.08.01        20190803.0               NaN   \n",
       "26                   2019.08.01        20190803.0               NaN   \n",
       "27                   2019.08.01        20190803.0               NaN   \n",
       "28                   2019.08.01        20190803.0               NaN   \n",
       "29                   2019.08.01        20190803.0               NaN   \n",
       "\n",
       "   salary_offered  contact_person contact_email contact_phone_number  \n",
       "0             NaN             NaN           NaN                  NaN  \n",
       "1             NaN             NaN           NaN                  NaN  \n",
       "2             NaN             NaN           NaN                  NaN  \n",
       "3             NaN             NaN           NaN                  NaN  \n",
       "4             NaN             NaN           NaN                  NaN  \n",
       "..            ...             ...           ...                  ...  \n",
       "25            NaN             NaN           NaN                  NaN  \n",
       "26            NaN             NaN           NaN                  NaN  \n",
       "27            NaN             NaN           NaN                  NaN  \n",
       "28            NaN             NaN           NaN                  NaN  \n",
       "29            NaN             NaN           NaN                  NaN  \n",
       "\n",
       "[30030 rows x 29 columns]"
      ],
      "text/html": "<div>\n<style scoped>\n    .dataframe tbody tr th:only-of-type {\n        vertical-align: middle;\n    }\n\n    .dataframe tbody tr th {\n        vertical-align: top;\n    }\n\n    .dataframe thead th {\n        text-align: right;\n    }\n</style>\n<table border=\"1\" class=\"dataframe\">\n  <thead>\n    <tr style=\"text-align: right;\">\n      <th></th>\n      <th>uniq_id</th>\n      <th>crawl_timestamp</th>\n      <th>url</th>\n      <th>job_title</th>\n      <th>category</th>\n      <th>company_name</th>\n      <th>city</th>\n      <th>state</th>\n      <th>country</th>\n      <th>post_date</th>\n      <th>...</th>\n      <th>job_post_lang</th>\n      <th>site_name</th>\n      <th>domain</th>\n      <th>postdate_in_indexname_format</th>\n      <th>postdate_yyyymmdd</th>\n      <th>job_requirements</th>\n      <th>salary_offered</th>\n      <th>contact_person</th>\n      <th>contact_email</th>\n      <th>contact_phone_number</th>\n    </tr>\n  </thead>\n  <tbody>\n    <tr>\n      <th>0</th>\n      <td>f1f521b137e040af77495ef053033c1d</td>\n      <td>2019-06-15 06:58:56 +0000</td>\n      <td>https://ca.indeed.com/viewjob?jk=addd6d52ad95671a</td>\n      <td>Valet Attendant</td>\n      <td>Customer-Service</td>\n      <td>Intact</td>\n      <td>Toronto</td>\n      <td>ON</td>\n      <td>CA</td>\n      <td>2019-06-18</td>\n      <td>...</td>\n      <td>NaN</td>\n      <td>NaN</td>\n      <td>NaN</td>\n      <td>NaN</td>\n      <td>NaN</td>\n      <td>NaN</td>\n      <td>NaN</td>\n      <td>NaN</td>\n      <td>NaN</td>\n      <td>NaN</td>\n    </tr>\n    <tr>\n      <th>1</th>\n      <td>6782dc813048ff8feca7c07d8279e456</td>\n      <td>2019-06-20 07:33:26 +0000</td>\n      <td>https://www.indeed.com/viewjob?jk=21a20005cda7...</td>\n      <td>Office Associate (10-15 Hours Per Week) Clovis</td>\n      <td>Administrative</td>\n      <td>Transform SR LLC</td>\n      <td>Clovis</td>\n      <td>CA 93612</td>\n      <td>US</td>\n      <td>2019-06-20</td>\n      <td>...</td>\n      <td>NaN</td>\n      <td>NaN</td>\n      <td>NaN</td>\n      <td>NaN</td>\n      <td>NaN</td>\n      <td>NaN</td>\n      <td>NaN</td>\n      <td>NaN</td>\n      <td>NaN</td>\n      <td>NaN</td>\n    </tr>\n    <tr>\n      <th>2</th>\n      <td>8d5d487901c993190fdf129902b7cc0e</td>\n      <td>2019-05-25 08:15:32 +0000</td>\n      <td>https://www.indeed.com/viewjob?jk=3c49ca6367e2...</td>\n      <td>Line Cook</td>\n      <td>Restaurant/Food+Service</td>\n      <td>Saltgrass Parker (Denver)</td>\n      <td>Parker</td>\n      <td>CO</td>\n      <td>Usa</td>\n      <td>2019-05-25</td>\n      <td>...</td>\n      <td>NaN</td>\n      <td>NaN</td>\n      <td>NaN</td>\n      <td>NaN</td>\n      <td>NaN</td>\n      <td>NaN</td>\n      <td>NaN</td>\n      <td>NaN</td>\n      <td>NaN</td>\n      <td>NaN</td>\n    </tr>\n    <tr>\n      <th>3</th>\n      <td>26d36e31ed78556dc241cb418f672afc</td>\n      <td>2019-05-19 08:51:04 +0000</td>\n      <td>https://www.indeed.com/viewjob?jk=28ca41c90fa1...</td>\n      <td>Solar Installer</td>\n      <td>Construction/Facilities</td>\n      <td>Chico Electric</td>\n      <td>Chico</td>\n      <td>CA 95973</td>\n      <td>Usa</td>\n      <td>2019-05-18</td>\n      <td>...</td>\n      <td>NaN</td>\n      <td>NaN</td>\n      <td>NaN</td>\n      <td>NaN</td>\n      <td>NaN</td>\n      <td>NaN</td>\n      <td>NaN</td>\n      <td>NaN</td>\n      <td>NaN</td>\n      <td>NaN</td>\n    </tr>\n    <tr>\n      <th>4</th>\n      <td>8cca34bf3a41246d4e7ee76d4cbeede8</td>\n      <td>2019-05-24 08:28:23 +0000</td>\n      <td>https://www.indeed.com/viewjob?jk=6bee5df180fd...</td>\n      <td>Claims Administrator</td>\n      <td>Insurance</td>\n      <td>Brink's Incorporated</td>\n      <td>Coppell</td>\n      <td>TX 75019</td>\n      <td>Usa</td>\n      <td>2019-05-24</td>\n      <td>...</td>\n      <td>NaN</td>\n      <td>NaN</td>\n      <td>NaN</td>\n      <td>NaN</td>\n      <td>NaN</td>\n      <td>NaN</td>\n      <td>NaN</td>\n      <td>NaN</td>\n      <td>NaN</td>\n      <td>NaN</td>\n    </tr>\n    <tr>\n      <th>...</th>\n      <td>...</td>\n      <td>...</td>\n      <td>...</td>\n      <td>...</td>\n      <td>...</td>\n      <td>...</td>\n      <td>...</td>\n      <td>...</td>\n      <td>...</td>\n      <td>...</td>\n      <td>...</td>\n      <td>...</td>\n      <td>...</td>\n      <td>...</td>\n      <td>...</td>\n      <td>...</td>\n      <td>...</td>\n      <td>...</td>\n      <td>...</td>\n      <td>...</td>\n      <td>...</td>\n    </tr>\n    <tr>\n      <th>25</th>\n      <td>4ea937be8f1f22cc5c5e0e328c41386f</td>\n      <td>2019-08-03 10:33:39 +0000</td>\n      <td>https://www.indeed.com/viewjob?jk=9695cff9a16b...</td>\n      <td>Field Service Technician</td>\n      <td>Customer-Service</td>\n      <td>Jesco Inc.-Beacon</td>\n      <td>Beacon</td>\n      <td>NY</td>\n      <td>US</td>\n      <td>2019-08-03</td>\n      <td>...</td>\n      <td>en</td>\n      <td>indeed_usa_com_job_board_common_setup_pc_jobspikr</td>\n      <td>indeed_com</td>\n      <td>2019.08.01</td>\n      <td>20190803.0</td>\n      <td>NaN</td>\n      <td>NaN</td>\n      <td>NaN</td>\n      <td>NaN</td>\n      <td>NaN</td>\n    </tr>\n    <tr>\n      <th>26</th>\n      <td>afc3de827adf8033be442978fb62af89</td>\n      <td>2019-08-03 10:27:55 +0000</td>\n      <td>https://www.indeed.com/viewjob?jk=1dd2122352b4...</td>\n      <td>Branch/Profit Center Manager</td>\n      <td>Sales</td>\n      <td>Company Info Follow Get job updates from Sunbe...</td>\n      <td>Irving</td>\n      <td>TX 75062</td>\n      <td>US</td>\n      <td>2019-08-03</td>\n      <td>...</td>\n      <td>en</td>\n      <td>indeed_usa_com_job_board_common_setup_pc_jobspikr</td>\n      <td>indeed_com</td>\n      <td>2019.08.01</td>\n      <td>20190803.0</td>\n      <td>NaN</td>\n      <td>NaN</td>\n      <td>NaN</td>\n      <td>NaN</td>\n      <td>NaN</td>\n    </tr>\n    <tr>\n      <th>27</th>\n      <td>98e044981bd99b9d9f04c5b8efffde9e</td>\n      <td>2019-08-03 10:38:24 +0000</td>\n      <td>https://www.indeed.com/viewjob?jk=0df3d9e5c303...</td>\n      <td>Administrative Service Coordinator-Neurology A...</td>\n      <td>Education-or-training</td>\n      <td>Company Info Follow Get job updates from Child...</td>\n      <td>Aurora</td>\n      <td>CO</td>\n      <td>US</td>\n      <td>2019-08-03</td>\n      <td>...</td>\n      <td>en</td>\n      <td>indeed_usa_com_job_board_common_setup_pc_jobspikr</td>\n      <td>indeed_com</td>\n      <td>2019.08.01</td>\n      <td>20190803.0</td>\n      <td>NaN</td>\n      <td>NaN</td>\n      <td>NaN</td>\n      <td>NaN</td>\n      <td>NaN</td>\n    </tr>\n    <tr>\n      <th>28</th>\n      <td>0fb5dc2c0c227400e64874afb8bbf2dc</td>\n      <td>2019-08-03 10:36:34 +0000</td>\n      <td>https://www.indeed.com/viewjob?jk=fab446a18eb2...</td>\n      <td>Lead Valet Attendant (FT)</td>\n      <td>Customer-Service</td>\n      <td>ABM - Tampa</td>\n      <td>Baton Rouge</td>\n      <td>LA</td>\n      <td>US</td>\n      <td>2019-08-03</td>\n      <td>...</td>\n      <td>en</td>\n      <td>indeed_usa_com_job_board_common_setup_pc_jobspikr</td>\n      <td>indeed_com</td>\n      <td>2019.08.01</td>\n      <td>20190803.0</td>\n      <td>NaN</td>\n      <td>NaN</td>\n      <td>NaN</td>\n      <td>NaN</td>\n      <td>NaN</td>\n    </tr>\n    <tr>\n      <th>29</th>\n      <td>7ce390dbaba21f268c1b3ba4f42be9dd</td>\n      <td>2019-08-03 10:35:50 +0000</td>\n      <td>https://www.indeed.com/viewjob?jk=13e1b1c77ecf...</td>\n      <td>Director International &amp; Graduate Programs</td>\n      <td>Legal</td>\n      <td>Company Info Follow Get job updates from Stets...</td>\n      <td>Gulfport</td>\n      <td>FL</td>\n      <td>US</td>\n      <td>2019-08-03</td>\n      <td>...</td>\n      <td>en</td>\n      <td>indeed_usa_com_job_board_common_setup_pc_jobspikr</td>\n      <td>indeed_com</td>\n      <td>2019.08.01</td>\n      <td>20190803.0</td>\n      <td>NaN</td>\n      <td>NaN</td>\n      <td>NaN</td>\n      <td>NaN</td>\n      <td>NaN</td>\n    </tr>\n  </tbody>\n</table>\n<p>30030 rows × 29 columns</p>\n</div>"
     },
     "metadata": {},
     "execution_count": 36
    }
   ],
   "source": [
    "indeed_2019_df = read_json('preCovid/')\n",
    "indeed_2019_df.head()"
   ]
  },
  {
   "cell_type": "code",
   "execution_count": 20,
   "metadata": {},
   "outputs": [
    {
     "output_type": "execute_result",
     "data": {
      "text/plain": [
       "Index(['uniq_id', 'crawl_timestamp', 'url', 'job_title', 'category',\n",
       "       'company_name', 'city', 'state', 'country', 'post_date',\n",
       "       'job_description', 'job_board', 'inferred_city', 'inferred_state',\n",
       "       'inferred_country', 'fitness_score', 'geo', 'job_type',\n",
       "       'company_description', 'job_post_lang', 'site_name', 'domain',\n",
       "       'postdate_in_indexname_format', 'postdate_yyyymmdd', 'job_requirements',\n",
       "       'salary_offered', 'contact_person', 'contact_email',\n",
       "       'contact_phone_number'],\n",
       "      dtype='object')"
      ]
     },
     "metadata": {},
     "execution_count": 20
    }
   ],
   "source": [
    "indeed_2019_df.columns"
   ]
  },
  {
   "cell_type": "code",
   "execution_count": 21,
   "metadata": {},
   "outputs": [
    {
     "output_type": "execute_result",
     "data": {
      "text/plain": [
       "   country  uniq_id\n",
       "0       AR      126\n",
       "1       AT      374\n",
       "2       AU     2032\n",
       "3       BE      172\n",
       "4       BH       13\n",
       "5       CA      781\n",
       "6       CZ        3\n",
       "7       DE      100\n",
       "8       DK        2\n",
       "9       EC        1\n",
       "10      FI       22\n",
       "11      FR      131\n",
       "12      MX        7\n",
       "13      MY       76\n",
       "14      US    16779\n",
       "15     Usa     9411"
      ],
      "text/html": "<div>\n<style scoped>\n    .dataframe tbody tr th:only-of-type {\n        vertical-align: middle;\n    }\n\n    .dataframe tbody tr th {\n        vertical-align: top;\n    }\n\n    .dataframe thead th {\n        text-align: right;\n    }\n</style>\n<table border=\"1\" class=\"dataframe\">\n  <thead>\n    <tr style=\"text-align: right;\">\n      <th></th>\n      <th>country</th>\n      <th>uniq_id</th>\n    </tr>\n  </thead>\n  <tbody>\n    <tr>\n      <th>0</th>\n      <td>AR</td>\n      <td>126</td>\n    </tr>\n    <tr>\n      <th>1</th>\n      <td>AT</td>\n      <td>374</td>\n    </tr>\n    <tr>\n      <th>2</th>\n      <td>AU</td>\n      <td>2032</td>\n    </tr>\n    <tr>\n      <th>3</th>\n      <td>BE</td>\n      <td>172</td>\n    </tr>\n    <tr>\n      <th>4</th>\n      <td>BH</td>\n      <td>13</td>\n    </tr>\n    <tr>\n      <th>5</th>\n      <td>CA</td>\n      <td>781</td>\n    </tr>\n    <tr>\n      <th>6</th>\n      <td>CZ</td>\n      <td>3</td>\n    </tr>\n    <tr>\n      <th>7</th>\n      <td>DE</td>\n      <td>100</td>\n    </tr>\n    <tr>\n      <th>8</th>\n      <td>DK</td>\n      <td>2</td>\n    </tr>\n    <tr>\n      <th>9</th>\n      <td>EC</td>\n      <td>1</td>\n    </tr>\n    <tr>\n      <th>10</th>\n      <td>FI</td>\n      <td>22</td>\n    </tr>\n    <tr>\n      <th>11</th>\n      <td>FR</td>\n      <td>131</td>\n    </tr>\n    <tr>\n      <th>12</th>\n      <td>MX</td>\n      <td>7</td>\n    </tr>\n    <tr>\n      <th>13</th>\n      <td>MY</td>\n      <td>76</td>\n    </tr>\n    <tr>\n      <th>14</th>\n      <td>US</td>\n      <td>16779</td>\n    </tr>\n    <tr>\n      <th>15</th>\n      <td>Usa</td>\n      <td>9411</td>\n    </tr>\n  </tbody>\n</table>\n</div>"
     },
     "metadata": {},
     "execution_count": 21
    }
   ],
   "source": [
    "indeed_2019_df.groupby('country').agg('count')['uniq_id'].reset_index()\n"
   ]
  },
  {
   "cell_type": "code",
   "execution_count": 43,
   "metadata": {},
   "outputs": [
    {
     "output_type": "execute_result",
     "data": {
      "text/plain": [
       "                               category  uniq_id\n",
       "2                        Administrative     2692\n",
       "19                           Healthcare     2590\n",
       "7                  Computer-or-internet     1778\n",
       "28          Manufacturing-or-mechanical     1349\n",
       "9            Construction-or-facilities     1342\n",
       "41                                Sales     1301\n",
       "43          Transportation-or-logistics     1006\n",
       "0                 Accounting-or-finance      896\n",
       "40                               Retail      823\n",
       "15          Engineering-or-architecture      761\n",
       "12                     Customer-Service      644\n",
       "38           Restaurant-or-food-Service      639\n",
       "13                Education-or-training      566\n",
       "10              Construction/Facilities      552\n",
       "1                    Accounting/Finance      522\n",
       "3   Arts-or-entertainment-or-publishing      500\n",
       "8                     Computer/Internet      476\n",
       "24                            Insurance      463\n",
       "5                      Banking-or-loans      435\n",
       "44             Transportation/Logistics      435\n",
       "23                      Human-Resources      418\n",
       "33              Non-profit/volunteering      414\n",
       "39              Restaurant/Food+Service      394\n",
       "29             Manufacturing/Mechanical      338\n",
       "27                                Legal      307\n",
       "17               Government-or-military      296\n",
       "20                Hospitality-or-travel      294\n",
       "14                   Education/Training      290\n",
       "16             Engineering/Architecture      288\n",
       "30       Marketing-or-advertising-or-pr      282\n",
       "11                     Customer+Service      279\n",
       "26          Law-Enforcement-or-security      271\n",
       "4         Arts/Entertainment/Publishing      257\n",
       "32              Non-Profit/Volunteering      240\n",
       "35              Pharmaceutical/bio-tech      225\n",
       "6                         Banking/Loans      219\n",
       "22                      Human+Resources      216\n",
       "42                   Telecommunications      194\n",
       "21                   Hospitality/Travel      187\n",
       "46       Upper-Management-or-consulting      185\n",
       "37                          Real-Estate      152\n",
       "18                  Government/Military      139\n",
       "34              Pharmaceutical/Bio-tech      135\n",
       "36                          Real+Estate      122\n",
       "31             Marketing/Advertising/PR      113\n",
       "25             Law+Enforcement/Security      111\n",
       "45          Upper+Management/Consulting       54"
      ],
      "text/html": "<div>\n<style scoped>\n    .dataframe tbody tr th:only-of-type {\n        vertical-align: middle;\n    }\n\n    .dataframe tbody tr th {\n        vertical-align: top;\n    }\n\n    .dataframe thead th {\n        text-align: right;\n    }\n</style>\n<table border=\"1\" class=\"dataframe\">\n  <thead>\n    <tr style=\"text-align: right;\">\n      <th></th>\n      <th>category</th>\n      <th>uniq_id</th>\n    </tr>\n  </thead>\n  <tbody>\n    <tr>\n      <th>2</th>\n      <td>Administrative</td>\n      <td>2692</td>\n    </tr>\n    <tr>\n      <th>19</th>\n      <td>Healthcare</td>\n      <td>2590</td>\n    </tr>\n    <tr>\n      <th>7</th>\n      <td>Computer-or-internet</td>\n      <td>1778</td>\n    </tr>\n    <tr>\n      <th>28</th>\n      <td>Manufacturing-or-mechanical</td>\n      <td>1349</td>\n    </tr>\n    <tr>\n      <th>9</th>\n      <td>Construction-or-facilities</td>\n      <td>1342</td>\n    </tr>\n    <tr>\n      <th>41</th>\n      <td>Sales</td>\n      <td>1301</td>\n    </tr>\n    <tr>\n      <th>43</th>\n      <td>Transportation-or-logistics</td>\n      <td>1006</td>\n    </tr>\n    <tr>\n      <th>0</th>\n      <td>Accounting-or-finance</td>\n      <td>896</td>\n    </tr>\n    <tr>\n      <th>40</th>\n      <td>Retail</td>\n      <td>823</td>\n    </tr>\n    <tr>\n      <th>15</th>\n      <td>Engineering-or-architecture</td>\n      <td>761</td>\n    </tr>\n    <tr>\n      <th>12</th>\n      <td>Customer-Service</td>\n      <td>644</td>\n    </tr>\n    <tr>\n      <th>38</th>\n      <td>Restaurant-or-food-Service</td>\n      <td>639</td>\n    </tr>\n    <tr>\n      <th>13</th>\n      <td>Education-or-training</td>\n      <td>566</td>\n    </tr>\n    <tr>\n      <th>10</th>\n      <td>Construction/Facilities</td>\n      <td>552</td>\n    </tr>\n    <tr>\n      <th>1</th>\n      <td>Accounting/Finance</td>\n      <td>522</td>\n    </tr>\n    <tr>\n      <th>3</th>\n      <td>Arts-or-entertainment-or-publishing</td>\n      <td>500</td>\n    </tr>\n    <tr>\n      <th>8</th>\n      <td>Computer/Internet</td>\n      <td>476</td>\n    </tr>\n    <tr>\n      <th>24</th>\n      <td>Insurance</td>\n      <td>463</td>\n    </tr>\n    <tr>\n      <th>5</th>\n      <td>Banking-or-loans</td>\n      <td>435</td>\n    </tr>\n    <tr>\n      <th>44</th>\n      <td>Transportation/Logistics</td>\n      <td>435</td>\n    </tr>\n    <tr>\n      <th>23</th>\n      <td>Human-Resources</td>\n      <td>418</td>\n    </tr>\n    <tr>\n      <th>33</th>\n      <td>Non-profit/volunteering</td>\n      <td>414</td>\n    </tr>\n    <tr>\n      <th>39</th>\n      <td>Restaurant/Food+Service</td>\n      <td>394</td>\n    </tr>\n    <tr>\n      <th>29</th>\n      <td>Manufacturing/Mechanical</td>\n      <td>338</td>\n    </tr>\n    <tr>\n      <th>27</th>\n      <td>Legal</td>\n      <td>307</td>\n    </tr>\n    <tr>\n      <th>17</th>\n      <td>Government-or-military</td>\n      <td>296</td>\n    </tr>\n    <tr>\n      <th>20</th>\n      <td>Hospitality-or-travel</td>\n      <td>294</td>\n    </tr>\n    <tr>\n      <th>14</th>\n      <td>Education/Training</td>\n      <td>290</td>\n    </tr>\n    <tr>\n      <th>16</th>\n      <td>Engineering/Architecture</td>\n      <td>288</td>\n    </tr>\n    <tr>\n      <th>30</th>\n      <td>Marketing-or-advertising-or-pr</td>\n      <td>282</td>\n    </tr>\n    <tr>\n      <th>11</th>\n      <td>Customer+Service</td>\n      <td>279</td>\n    </tr>\n    <tr>\n      <th>26</th>\n      <td>Law-Enforcement-or-security</td>\n      <td>271</td>\n    </tr>\n    <tr>\n      <th>4</th>\n      <td>Arts/Entertainment/Publishing</td>\n      <td>257</td>\n    </tr>\n    <tr>\n      <th>32</th>\n      <td>Non-Profit/Volunteering</td>\n      <td>240</td>\n    </tr>\n    <tr>\n      <th>35</th>\n      <td>Pharmaceutical/bio-tech</td>\n      <td>225</td>\n    </tr>\n    <tr>\n      <th>6</th>\n      <td>Banking/Loans</td>\n      <td>219</td>\n    </tr>\n    <tr>\n      <th>22</th>\n      <td>Human+Resources</td>\n      <td>216</td>\n    </tr>\n    <tr>\n      <th>42</th>\n      <td>Telecommunications</td>\n      <td>194</td>\n    </tr>\n    <tr>\n      <th>21</th>\n      <td>Hospitality/Travel</td>\n      <td>187</td>\n    </tr>\n    <tr>\n      <th>46</th>\n      <td>Upper-Management-or-consulting</td>\n      <td>185</td>\n    </tr>\n    <tr>\n      <th>37</th>\n      <td>Real-Estate</td>\n      <td>152</td>\n    </tr>\n    <tr>\n      <th>18</th>\n      <td>Government/Military</td>\n      <td>139</td>\n    </tr>\n    <tr>\n      <th>34</th>\n      <td>Pharmaceutical/Bio-tech</td>\n      <td>135</td>\n    </tr>\n    <tr>\n      <th>36</th>\n      <td>Real+Estate</td>\n      <td>122</td>\n    </tr>\n    <tr>\n      <th>31</th>\n      <td>Marketing/Advertising/PR</td>\n      <td>113</td>\n    </tr>\n    <tr>\n      <th>25</th>\n      <td>Law+Enforcement/Security</td>\n      <td>111</td>\n    </tr>\n    <tr>\n      <th>45</th>\n      <td>Upper+Management/Consulting</td>\n      <td>54</td>\n    </tr>\n  </tbody>\n</table>\n</div>"
     },
     "metadata": {},
     "execution_count": 43
    }
   ],
   "source": [
    "indeed_2019_df = indeed_2019_df.loc[ (indeed_2019_df['country'] == 'US') | (indeed_2019_df['country'] == 'Usa')]\n",
    "df = indeed_2019_df.groupby('category').agg('count')['uniq_id'].reset_index()\n",
    "df.sort_values(by = ['uniq_id'], ascending = False)"
   ]
  },
  {
   "cell_type": "code",
   "execution_count": 33,
   "metadata": {},
   "outputs": [
    {
     "output_type": "execute_result",
     "data": {
      "text/plain": [
       "                                              Job Title  \\\n",
       "0                                         Shift Manager   \n",
       "1                            Operations Support Manager   \n",
       "2                         Senior Product Manager - Data   \n",
       "3                            Part-Time Office Concierge   \n",
       "4                           Print & Marketing Associate   \n",
       "...                                                 ...   \n",
       "29997                                  Bilingual Teller   \n",
       "29998                  Rental Consultant - Harrison, OH   \n",
       "29999                      Product Support Specialist 5   \n",
       "30000                   Marketing Strategist (Contract)   \n",
       "30001  Business Intelligence Data Warehouse ETL Manager   \n",
       "\n",
       "                                         Job Description  Job Type  \\\n",
       "0      <div id=\"jobDescriptionText\" class=\"jobsearch-...       NaN   \n",
       "1      <div id=\"jobDescriptionText\" class=\"jobsearch-...       NaN   \n",
       "2      <div id=\"jobDescriptionText\" class=\"jobsearch-...       NaN   \n",
       "3      <div id=\"jobDescriptionText\" class=\"jobsearch-...       NaN   \n",
       "4      <div id=\"jobDescriptionText\" class=\"jobsearch-...       NaN   \n",
       "...                                                  ...       ...   \n",
       "29997  <div id=\"jobDescriptionText\" class=\"jobsearch-...       NaN   \n",
       "29998  <div id=\"jobDescriptionText\" class=\"jobsearch-...       NaN   \n",
       "29999  <div id=\"jobDescriptionText\" class=\"jobsearch-...       NaN   \n",
       "30000  <div id=\"jobDescriptionText\" class=\"jobsearch-...       NaN   \n",
       "30001  <div id=\"jobDescriptionText\" class=\"jobsearch-...       NaN   \n",
       "\n",
       "       Categories                 Location           City State  \\\n",
       "0             NaN  Mission Hills, CA 91345  Mission Hills    CA   \n",
       "1             NaN        Atlanta, GA 30342        Atlanta    GA   \n",
       "2             NaN              Chicago, IL        Chicago    IL   \n",
       "3             NaN               Festus, MO         Festus    MO   \n",
       "4             NaN   Cedar Rapids, IA 52404   Cedar Rapids    IA   \n",
       "...           ...                      ...            ...   ...   \n",
       "29997         NaN       Lakewood, CO 80226       Lakewood    CO   \n",
       "29998         NaN       Harrison, OH 45030       Harrison    OH   \n",
       "29999         NaN      Melbourne, FL 32940      Melbourne    FL   \n",
       "30000         NaN            San Diego, CA      San Diego    CA   \n",
       "30001         NaN            Jefferson, WI      Jefferson    WI   \n",
       "\n",
       "             Country Zip Code  Address  ...  Employer Phone  \\\n",
       "0      United States    91345      NaN  ...             NaN   \n",
       "1      United States    30342      NaN  ...             NaN   \n",
       "2      United States      NaN      NaN  ...             NaN   \n",
       "3      United States      NaN      NaN  ...             NaN   \n",
       "4      United States    52404      NaN  ...             NaN   \n",
       "...              ...      ...      ...  ...             ...   \n",
       "29997  United States    80226      NaN  ...             NaN   \n",
       "29998  United States    45030      NaN  ...             NaN   \n",
       "29999  United States    32940      NaN  ...             NaN   \n",
       "30000  United States      NaN      NaN  ...             NaN   \n",
       "30001  United States      NaN      NaN  ...             NaN   \n",
       "\n",
       "                                           Employer Logo  \\\n",
       "0      https://d2q79iu7y748jz.cloudfront.net/s/_squar...   \n",
       "1      https://d2q79iu7y748jz.cloudfront.net/s/_logo/...   \n",
       "2                                                    NaN   \n",
       "3                                                    NaN   \n",
       "4      https://d2q79iu7y748jz.cloudfront.net/s/_logo/...   \n",
       "...                                                  ...   \n",
       "29997  https://d2q79iu7y748jz.cloudfront.net/s/_logo/...   \n",
       "29998                                                NaN   \n",
       "29999                                                NaN   \n",
       "30000  https://d2q79iu7y748jz.cloudfront.net/s/_logo/...   \n",
       "30001                                                NaN   \n",
       "\n",
       "                                      Companydescription  \\\n",
       "0      Del Taco is an American quick service restaura...   \n",
       "1      Based in Atlanta, FOCUS Brands Inc. is an inno...   \n",
       "2      Vibes Corp. reputation was built and establish...   \n",
       "3                                                    NaN   \n",
       "4      Staples is The Worklife Fulfillment Company, h...   \n",
       "...                                                  ...   \n",
       "29997  Moneytree is a family-run business that has be...   \n",
       "29998                                                NaN   \n",
       "29999                                                NaN   \n",
       "30000  Ajinomoto Bio-Pharma Services is a fully integ...   \n",
       "30001  NewCareers is a full service executive/profess...   \n",
       "\n",
       "             Employer Location  Employer City  Employer State  \\\n",
       "0      Mission Hills, CA 91345  Mission Hills              CA   \n",
       "1                          NaN            NaN             NaN   \n",
       "2                          NaN            NaN             NaN   \n",
       "3                          NaN            NaN             NaN   \n",
       "4       Cedar Rapids, IA 52404   Cedar Rapids              IA   \n",
       "...                        ...            ...             ...   \n",
       "29997                      NaN            NaN             NaN   \n",
       "29998                      NaN            NaN             NaN   \n",
       "29999                      NaN            NaN             NaN   \n",
       "30000                      NaN            NaN             NaN   \n",
       "30001                      NaN            NaN             NaN   \n",
       "\n",
       "       Employer Country Employer Zip Code                           Uniq Id  \\\n",
       "0         United States             91345  511f9a53920f4641d701d51d3589349f   \n",
       "1         United States               NaN  4955daf0a3facbe2acb6c429ba394e6d   \n",
       "2         United States               NaN  a0e0d12df1571962b785f17f43ceae12   \n",
       "3         United States               NaN  56e411fd731f76ac916bf4fb169250e9   \n",
       "4         United States             52404  3fff5c0ad6981bf4bff6260bd5feab63   \n",
       "...                 ...               ...                               ...   \n",
       "29997     United States               NaN  db18d0e2de28df6e1e605a3800ffd574   \n",
       "29998     United States               NaN  47f8d7f320223b6f043ef5c345676902   \n",
       "29999     United States               NaN  d2a18fb9f52495aa7876d4470e5acc61   \n",
       "30000     United States               NaN  ce699d2e94a52dfebb13bcf70ed5ffd7   \n",
       "30001     United States               NaN  4c13eed829c37b7d6ec0c94f6374a112   \n",
       "\n",
       "                 Crawl Timestamp  \n",
       "0      2019-08-24 09:13:18 +0000  \n",
       "1      2019-09-19 08:16:55 +0000  \n",
       "2      2019-09-18 02:13:10 +0000  \n",
       "3      2019-10-24 16:39:13 +0000  \n",
       "4      2019-08-24 22:29:10 +0000  \n",
       "...                          ...  \n",
       "29997  2019-10-25 22:42:37 +0000  \n",
       "29998  2019-10-25 16:56:18 +0000  \n",
       "29999  2019-10-25 01:39:48 +0000  \n",
       "30000  2019-08-23 15:36:47 +0000  \n",
       "30001  2019-10-24 14:44:39 +0000  \n",
       "\n",
       "[30002 rows x 30 columns]"
      ],
      "text/html": "<div>\n<style scoped>\n    .dataframe tbody tr th:only-of-type {\n        vertical-align: middle;\n    }\n\n    .dataframe tbody tr th {\n        vertical-align: top;\n    }\n\n    .dataframe thead th {\n        text-align: right;\n    }\n</style>\n<table border=\"1\" class=\"dataframe\">\n  <thead>\n    <tr style=\"text-align: right;\">\n      <th></th>\n      <th>Job Title</th>\n      <th>Job Description</th>\n      <th>Job Type</th>\n      <th>Categories</th>\n      <th>Location</th>\n      <th>City</th>\n      <th>State</th>\n      <th>Country</th>\n      <th>Zip Code</th>\n      <th>Address</th>\n      <th>...</th>\n      <th>Employer Phone</th>\n      <th>Employer Logo</th>\n      <th>Companydescription</th>\n      <th>Employer Location</th>\n      <th>Employer City</th>\n      <th>Employer State</th>\n      <th>Employer Country</th>\n      <th>Employer Zip Code</th>\n      <th>Uniq Id</th>\n      <th>Crawl Timestamp</th>\n    </tr>\n  </thead>\n  <tbody>\n    <tr>\n      <th>0</th>\n      <td>Shift Manager</td>\n      <td>&lt;div id=\"jobDescriptionText\" class=\"jobsearch-...</td>\n      <td>NaN</td>\n      <td>NaN</td>\n      <td>Mission Hills, CA 91345</td>\n      <td>Mission Hills</td>\n      <td>CA</td>\n      <td>United States</td>\n      <td>91345</td>\n      <td>NaN</td>\n      <td>...</td>\n      <td>NaN</td>\n      <td>https://d2q79iu7y748jz.cloudfront.net/s/_squar...</td>\n      <td>Del Taco is an American quick service restaura...</td>\n      <td>Mission Hills, CA 91345</td>\n      <td>Mission Hills</td>\n      <td>CA</td>\n      <td>United States</td>\n      <td>91345</td>\n      <td>511f9a53920f4641d701d51d3589349f</td>\n      <td>2019-08-24 09:13:18 +0000</td>\n    </tr>\n    <tr>\n      <th>1</th>\n      <td>Operations Support Manager</td>\n      <td>&lt;div id=\"jobDescriptionText\" class=\"jobsearch-...</td>\n      <td>NaN</td>\n      <td>NaN</td>\n      <td>Atlanta, GA 30342</td>\n      <td>Atlanta</td>\n      <td>GA</td>\n      <td>United States</td>\n      <td>30342</td>\n      <td>NaN</td>\n      <td>...</td>\n      <td>NaN</td>\n      <td>https://d2q79iu7y748jz.cloudfront.net/s/_logo/...</td>\n      <td>Based in Atlanta, FOCUS Brands Inc. is an inno...</td>\n      <td>NaN</td>\n      <td>NaN</td>\n      <td>NaN</td>\n      <td>United States</td>\n      <td>NaN</td>\n      <td>4955daf0a3facbe2acb6c429ba394e6d</td>\n      <td>2019-09-19 08:16:55 +0000</td>\n    </tr>\n    <tr>\n      <th>2</th>\n      <td>Senior Product Manager - Data</td>\n      <td>&lt;div id=\"jobDescriptionText\" class=\"jobsearch-...</td>\n      <td>NaN</td>\n      <td>NaN</td>\n      <td>Chicago, IL</td>\n      <td>Chicago</td>\n      <td>IL</td>\n      <td>United States</td>\n      <td>NaN</td>\n      <td>NaN</td>\n      <td>...</td>\n      <td>NaN</td>\n      <td>NaN</td>\n      <td>Vibes Corp. reputation was built and establish...</td>\n      <td>NaN</td>\n      <td>NaN</td>\n      <td>NaN</td>\n      <td>United States</td>\n      <td>NaN</td>\n      <td>a0e0d12df1571962b785f17f43ceae12</td>\n      <td>2019-09-18 02:13:10 +0000</td>\n    </tr>\n    <tr>\n      <th>3</th>\n      <td>Part-Time Office Concierge</td>\n      <td>&lt;div id=\"jobDescriptionText\" class=\"jobsearch-...</td>\n      <td>NaN</td>\n      <td>NaN</td>\n      <td>Festus, MO</td>\n      <td>Festus</td>\n      <td>MO</td>\n      <td>United States</td>\n      <td>NaN</td>\n      <td>NaN</td>\n      <td>...</td>\n      <td>NaN</td>\n      <td>NaN</td>\n      <td>NaN</td>\n      <td>NaN</td>\n      <td>NaN</td>\n      <td>NaN</td>\n      <td>United States</td>\n      <td>NaN</td>\n      <td>56e411fd731f76ac916bf4fb169250e9</td>\n      <td>2019-10-24 16:39:13 +0000</td>\n    </tr>\n    <tr>\n      <th>4</th>\n      <td>Print &amp; Marketing Associate</td>\n      <td>&lt;div id=\"jobDescriptionText\" class=\"jobsearch-...</td>\n      <td>NaN</td>\n      <td>NaN</td>\n      <td>Cedar Rapids, IA 52404</td>\n      <td>Cedar Rapids</td>\n      <td>IA</td>\n      <td>United States</td>\n      <td>52404</td>\n      <td>NaN</td>\n      <td>...</td>\n      <td>NaN</td>\n      <td>https://d2q79iu7y748jz.cloudfront.net/s/_logo/...</td>\n      <td>Staples is The Worklife Fulfillment Company, h...</td>\n      <td>Cedar Rapids, IA 52404</td>\n      <td>Cedar Rapids</td>\n      <td>IA</td>\n      <td>United States</td>\n      <td>52404</td>\n      <td>3fff5c0ad6981bf4bff6260bd5feab63</td>\n      <td>2019-08-24 22:29:10 +0000</td>\n    </tr>\n    <tr>\n      <th>...</th>\n      <td>...</td>\n      <td>...</td>\n      <td>...</td>\n      <td>...</td>\n      <td>...</td>\n      <td>...</td>\n      <td>...</td>\n      <td>...</td>\n      <td>...</td>\n      <td>...</td>\n      <td>...</td>\n      <td>...</td>\n      <td>...</td>\n      <td>...</td>\n      <td>...</td>\n      <td>...</td>\n      <td>...</td>\n      <td>...</td>\n      <td>...</td>\n      <td>...</td>\n      <td>...</td>\n    </tr>\n    <tr>\n      <th>29997</th>\n      <td>Bilingual Teller</td>\n      <td>&lt;div id=\"jobDescriptionText\" class=\"jobsearch-...</td>\n      <td>NaN</td>\n      <td>NaN</td>\n      <td>Lakewood, CO 80226</td>\n      <td>Lakewood</td>\n      <td>CO</td>\n      <td>United States</td>\n      <td>80226</td>\n      <td>NaN</td>\n      <td>...</td>\n      <td>NaN</td>\n      <td>https://d2q79iu7y748jz.cloudfront.net/s/_logo/...</td>\n      <td>Moneytree is a family-run business that has be...</td>\n      <td>NaN</td>\n      <td>NaN</td>\n      <td>NaN</td>\n      <td>United States</td>\n      <td>NaN</td>\n      <td>db18d0e2de28df6e1e605a3800ffd574</td>\n      <td>2019-10-25 22:42:37 +0000</td>\n    </tr>\n    <tr>\n      <th>29998</th>\n      <td>Rental Consultant - Harrison, OH</td>\n      <td>&lt;div id=\"jobDescriptionText\" class=\"jobsearch-...</td>\n      <td>NaN</td>\n      <td>NaN</td>\n      <td>Harrison, OH 45030</td>\n      <td>Harrison</td>\n      <td>OH</td>\n      <td>United States</td>\n      <td>45030</td>\n      <td>NaN</td>\n      <td>...</td>\n      <td>NaN</td>\n      <td>NaN</td>\n      <td>NaN</td>\n      <td>NaN</td>\n      <td>NaN</td>\n      <td>NaN</td>\n      <td>United States</td>\n      <td>NaN</td>\n      <td>47f8d7f320223b6f043ef5c345676902</td>\n      <td>2019-10-25 16:56:18 +0000</td>\n    </tr>\n    <tr>\n      <th>29999</th>\n      <td>Product Support Specialist 5</td>\n      <td>&lt;div id=\"jobDescriptionText\" class=\"jobsearch-...</td>\n      <td>NaN</td>\n      <td>NaN</td>\n      <td>Melbourne, FL 32940</td>\n      <td>Melbourne</td>\n      <td>FL</td>\n      <td>United States</td>\n      <td>32940</td>\n      <td>NaN</td>\n      <td>...</td>\n      <td>NaN</td>\n      <td>NaN</td>\n      <td>NaN</td>\n      <td>NaN</td>\n      <td>NaN</td>\n      <td>NaN</td>\n      <td>United States</td>\n      <td>NaN</td>\n      <td>d2a18fb9f52495aa7876d4470e5acc61</td>\n      <td>2019-10-25 01:39:48 +0000</td>\n    </tr>\n    <tr>\n      <th>30000</th>\n      <td>Marketing Strategist (Contract)</td>\n      <td>&lt;div id=\"jobDescriptionText\" class=\"jobsearch-...</td>\n      <td>NaN</td>\n      <td>NaN</td>\n      <td>San Diego, CA</td>\n      <td>San Diego</td>\n      <td>CA</td>\n      <td>United States</td>\n      <td>NaN</td>\n      <td>NaN</td>\n      <td>...</td>\n      <td>NaN</td>\n      <td>https://d2q79iu7y748jz.cloudfront.net/s/_logo/...</td>\n      <td>Ajinomoto Bio-Pharma Services is a fully integ...</td>\n      <td>NaN</td>\n      <td>NaN</td>\n      <td>NaN</td>\n      <td>United States</td>\n      <td>NaN</td>\n      <td>ce699d2e94a52dfebb13bcf70ed5ffd7</td>\n      <td>2019-08-23 15:36:47 +0000</td>\n    </tr>\n    <tr>\n      <th>30001</th>\n      <td>Business Intelligence Data Warehouse ETL Manager</td>\n      <td>&lt;div id=\"jobDescriptionText\" class=\"jobsearch-...</td>\n      <td>NaN</td>\n      <td>NaN</td>\n      <td>Jefferson, WI</td>\n      <td>Jefferson</td>\n      <td>WI</td>\n      <td>United States</td>\n      <td>NaN</td>\n      <td>NaN</td>\n      <td>...</td>\n      <td>NaN</td>\n      <td>NaN</td>\n      <td>NewCareers is a full service executive/profess...</td>\n      <td>NaN</td>\n      <td>NaN</td>\n      <td>NaN</td>\n      <td>United States</td>\n      <td>NaN</td>\n      <td>4c13eed829c37b7d6ec0c94f6374a112</td>\n      <td>2019-10-24 14:44:39 +0000</td>\n    </tr>\n  </tbody>\n</table>\n<p>30002 rows × 30 columns</p>\n</div>"
     },
     "metadata": {},
     "execution_count": 33
    }
   ],
   "source": [
    "indeed_df = read_csv('preCovid/')\n",
    "indeed_df.head()"
   ]
  },
  {
   "cell_type": "code",
   "execution_count": 35,
   "metadata": {},
   "outputs": [
    {
     "output_type": "execute_result",
     "data": {
      "text/plain": [
       "Index(['Job Title', 'Job Description', 'Job Type', 'Categories', 'Location',\n",
       "       'City', 'State', 'Country', 'Zip Code', 'Address', 'Salary From',\n",
       "       'Salary To', 'Salary Period', 'Apply Url', 'Apply Email', 'Employees',\n",
       "       'Industry', 'Company Name', 'Employer Email', 'Employer Website',\n",
       "       'Employer Phone', 'Employer Logo', 'Companydescription',\n",
       "       'Employer Location', 'Employer City', 'Employer State',\n",
       "       'Employer Country', 'Employer Zip Code', 'Uniq Id', 'Crawl Timestamp'],\n",
       "      dtype='object')"
      ]
     },
     "metadata": {},
     "execution_count": 35
    }
   ],
   "source": [
    "indeed_df.columns"
   ]
  },
  {
   "cell_type": "code",
   "execution_count": null,
   "metadata": {},
   "outputs": [],
   "source": []
  }
 ]
}