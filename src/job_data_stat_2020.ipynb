{
 "metadata": {
  "language_info": {
   "codemirror_mode": {
    "name": "ipython",
    "version": 3
   },
   "file_extension": ".py",
   "mimetype": "text/x-python",
   "name": "python",
   "nbconvert_exporter": "python",
   "pygments_lexer": "ipython3",
   "version": "3.8.3-final"
  },
  "orig_nbformat": 2,
  "kernelspec": {
   "name": "python383jvsc74a57bd0dca0ade3e726a953b501b15e8e990130d2b7799f14cfd9f4271676035ebe5511",
   "display_name": "Python 3.8.3 64-bit ('base': conda)"
  }
 },
 "nbformat": 4,
 "nbformat_minor": 2,
 "cells": [
  {
   "source": [
    "### Data Cleaning and Exploration on Indeed 2020's dataset"
   ],
   "cell_type": "markdown",
   "metadata": {}
  },
  {
   "cell_type": "code",
   "execution_count": 1,
   "metadata": {},
   "outputs": [],
   "source": [
    "import numpy as np\n",
    "import pandas as pd\n",
    "import re\n",
    "import glob\n",
    "INDEED_JOB_POSTING_DATA = '../data/'"
   ]
  },
  {
   "cell_type": "code",
   "execution_count": 2,
   "metadata": {},
   "outputs": [],
   "source": [
    "def read_csv(dataset):\n",
    "    data_csv = glob.glob( INDEED_JOB_POSTING_DATA + dataset + \"*.csv\")\n",
    "    indeed_df = pd.DataFrame()\n",
    "    for i, csv_file in enumerate(data_csv):\n",
    "        raw_df = pd.read_csv(csv_file, index_col=0)\n",
    "        indeed_df = indeed_df.append(raw_df)\n",
    "    indeed_df['postdate_yyyymmdd'] = pd.to_datetime(indeed_df['postdate_yyyymmdd'], format='%Y%m%d' )\n",
    "    print(\"Before dropping duplicate ids: \" + str(indeed_df.shape[0]))\n",
    "    # drop duplicate \n",
    "    indeed_df.drop_duplicates(subset = ['uniq_id'], inplace = True)\n",
    "    print(\"After dropping duplicate ids: \" + str(indeed_df.shape[0]))\n",
    "    return indeed_df"
   ]
  },
  {
   "cell_type": "code",
   "execution_count": 3,
   "metadata": {},
   "outputs": [
    {
     "output_type": "stream",
     "name": "stdout",
     "text": [
      "Before dropping duplicate ids: 29995\nAfter dropping duplicate ids: 29995\n"
     ]
    },
    {
     "output_type": "execute_result",
     "data": {
      "text/plain": [
       "0"
      ]
     },
     "metadata": {},
     "execution_count": 3
    }
   ],
   "source": [
    "indeed_2020_df = read_csv('Indeed_2020/')\n",
    "indeed_2020_df['postdate_yyyymmdd'].isna().sum()"
   ]
  },
  {
   "cell_type": "code",
   "execution_count": 4,
   "metadata": {},
   "outputs": [
    {
     "output_type": "execute_result",
     "data": {
      "text/plain": [
       "                            uniq_id            crawl_timestamp  \\\n",
       "0  970589e837dfe5d7b96a4edb68ed53fc  2020-06-27 22:48:05 +0000   \n",
       "1  5b8e77e647a868558bd14d77faa20d11  2020-06-03 14:34:46 +0000   \n",
       "2  ffaa733004c1791099e8481a5fead2e4  2020-05-10 03:25:40 +0000   \n",
       "3  6388e9094ff67beb57a04c1bb84613d1  2020-05-30 06:55:44 +0000   \n",
       "4  f34f23997811c9c163d9c14347725cd0  2020-05-14 07:10:50 +0000   \n",
       "\n",
       "                                                 url  \\\n",
       "0  https://www.indeed.com/viewjob?jk=6e2f10dbcc82...   \n",
       "1  https://www.indeed.com/viewjob?jk=e2ef934dfe3d...   \n",
       "2  https://www.indeed.com/cmp/ZEELAND-FARM-SERVIC...   \n",
       "3  https://www.indeed.com/viewjob?jk=e44bcf868eea...   \n",
       "4  https://www.indeed.com/viewjob?jk=b551a641bce8...   \n",
       "\n",
       "                             job_title                    category  \\\n",
       "0                    Assistant Teacher       Education-or-training   \n",
       "1                          Team Member  Restaurant-or-food-Service   \n",
       "2  Driver ZFS - Elevator Miscellaneous  Construction-or-facilities   \n",
       "3            NURSE (FLIGHT OPERATIONS)       Accounting-or-finance   \n",
       "4            Sr Mgr, Clinic Operations              Administrative   \n",
       "\n",
       "                                        company_name         city state  \\\n",
       "0                        Tutor Time Learning Centers       Powell    OH   \n",
       "1  Jack's Family Restaurant | Jacks Family Restau...      Gadsden    AL   \n",
       "2                        Zeeland Farm Services, Inc.      Zeeland    MI   \n",
       "3                     US Department of the Air Force  Keesler AFB    MS   \n",
       "4                                              Emory      Decatur    GA   \n",
       "\n",
       "  country   post_date  ... salary_offered test_contact_email contact_email  \\\n",
       "0      US  2020-06-27  ...            NaN                NaN           NaN   \n",
       "1      US  2020-06-03  ...            NaN                NaN           NaN   \n",
       "2      US  2020-05-10  ...            NaN                NaN           NaN   \n",
       "3      US  2020-05-30  ...            NaN                NaN           NaN   \n",
       "4      US  2020-05-14  ...            NaN                NaN           NaN   \n",
       "\n",
       "  inferred_salary_time_unit inferred_salary_currency is_currency_valid  \\\n",
       "0                       NaN                      NaN               NaN   \n",
       "1                       NaN                      NaN               NaN   \n",
       "2                       NaN                      NaN               NaN   \n",
       "3                       NaN                      NaN               NaN   \n",
       "4                       NaN                      NaN               NaN   \n",
       "\n",
       "  is_salary_unit_correct is_from_range_valid is_to_range_valid dataset  \n",
       "0                    NaN                 NaN               NaN     NaN  \n",
       "1                    NaN                 NaN               NaN     NaN  \n",
       "2                    NaN                 NaN               NaN     NaN  \n",
       "3                    NaN                 NaN               NaN     NaN  \n",
       "4                    NaN                 NaN               NaN     NaN  \n",
       "\n",
       "[5 rows x 43 columns]"
      ],
      "text/html": "<div>\n<style scoped>\n    .dataframe tbody tr th:only-of-type {\n        vertical-align: middle;\n    }\n\n    .dataframe tbody tr th {\n        vertical-align: top;\n    }\n\n    .dataframe thead th {\n        text-align: right;\n    }\n</style>\n<table border=\"1\" class=\"dataframe\">\n  <thead>\n    <tr style=\"text-align: right;\">\n      <th></th>\n      <th>uniq_id</th>\n      <th>crawl_timestamp</th>\n      <th>url</th>\n      <th>job_title</th>\n      <th>category</th>\n      <th>company_name</th>\n      <th>city</th>\n      <th>state</th>\n      <th>country</th>\n      <th>post_date</th>\n      <th>...</th>\n      <th>salary_offered</th>\n      <th>test_contact_email</th>\n      <th>contact_email</th>\n      <th>inferred_salary_time_unit</th>\n      <th>inferred_salary_currency</th>\n      <th>is_currency_valid</th>\n      <th>is_salary_unit_correct</th>\n      <th>is_from_range_valid</th>\n      <th>is_to_range_valid</th>\n      <th>dataset</th>\n    </tr>\n  </thead>\n  <tbody>\n    <tr>\n      <th>0</th>\n      <td>970589e837dfe5d7b96a4edb68ed53fc</td>\n      <td>2020-06-27 22:48:05 +0000</td>\n      <td>https://www.indeed.com/viewjob?jk=6e2f10dbcc82...</td>\n      <td>Assistant Teacher</td>\n      <td>Education-or-training</td>\n      <td>Tutor Time Learning Centers</td>\n      <td>Powell</td>\n      <td>OH</td>\n      <td>US</td>\n      <td>2020-06-27</td>\n      <td>...</td>\n      <td>NaN</td>\n      <td>NaN</td>\n      <td>NaN</td>\n      <td>NaN</td>\n      <td>NaN</td>\n      <td>NaN</td>\n      <td>NaN</td>\n      <td>NaN</td>\n      <td>NaN</td>\n      <td>NaN</td>\n    </tr>\n    <tr>\n      <th>1</th>\n      <td>5b8e77e647a868558bd14d77faa20d11</td>\n      <td>2020-06-03 14:34:46 +0000</td>\n      <td>https://www.indeed.com/viewjob?jk=e2ef934dfe3d...</td>\n      <td>Team Member</td>\n      <td>Restaurant-or-food-Service</td>\n      <td>Jack's Family Restaurant | Jacks Family Restau...</td>\n      <td>Gadsden</td>\n      <td>AL</td>\n      <td>US</td>\n      <td>2020-06-03</td>\n      <td>...</td>\n      <td>NaN</td>\n      <td>NaN</td>\n      <td>NaN</td>\n      <td>NaN</td>\n      <td>NaN</td>\n      <td>NaN</td>\n      <td>NaN</td>\n      <td>NaN</td>\n      <td>NaN</td>\n      <td>NaN</td>\n    </tr>\n    <tr>\n      <th>2</th>\n      <td>ffaa733004c1791099e8481a5fead2e4</td>\n      <td>2020-05-10 03:25:40 +0000</td>\n      <td>https://www.indeed.com/cmp/ZEELAND-FARM-SERVIC...</td>\n      <td>Driver ZFS - Elevator Miscellaneous</td>\n      <td>Construction-or-facilities</td>\n      <td>Zeeland Farm Services, Inc.</td>\n      <td>Zeeland</td>\n      <td>MI</td>\n      <td>US</td>\n      <td>2020-05-10</td>\n      <td>...</td>\n      <td>NaN</td>\n      <td>NaN</td>\n      <td>NaN</td>\n      <td>NaN</td>\n      <td>NaN</td>\n      <td>NaN</td>\n      <td>NaN</td>\n      <td>NaN</td>\n      <td>NaN</td>\n      <td>NaN</td>\n    </tr>\n    <tr>\n      <th>3</th>\n      <td>6388e9094ff67beb57a04c1bb84613d1</td>\n      <td>2020-05-30 06:55:44 +0000</td>\n      <td>https://www.indeed.com/viewjob?jk=e44bcf868eea...</td>\n      <td>NURSE (FLIGHT OPERATIONS)</td>\n      <td>Accounting-or-finance</td>\n      <td>US Department of the Air Force</td>\n      <td>Keesler AFB</td>\n      <td>MS</td>\n      <td>US</td>\n      <td>2020-05-30</td>\n      <td>...</td>\n      <td>NaN</td>\n      <td>NaN</td>\n      <td>NaN</td>\n      <td>NaN</td>\n      <td>NaN</td>\n      <td>NaN</td>\n      <td>NaN</td>\n      <td>NaN</td>\n      <td>NaN</td>\n      <td>NaN</td>\n    </tr>\n    <tr>\n      <th>4</th>\n      <td>f34f23997811c9c163d9c14347725cd0</td>\n      <td>2020-05-14 07:10:50 +0000</td>\n      <td>https://www.indeed.com/viewjob?jk=b551a641bce8...</td>\n      <td>Sr Mgr, Clinic Operations</td>\n      <td>Administrative</td>\n      <td>Emory</td>\n      <td>Decatur</td>\n      <td>GA</td>\n      <td>US</td>\n      <td>2020-05-14</td>\n      <td>...</td>\n      <td>NaN</td>\n      <td>NaN</td>\n      <td>NaN</td>\n      <td>NaN</td>\n      <td>NaN</td>\n      <td>NaN</td>\n      <td>NaN</td>\n      <td>NaN</td>\n      <td>NaN</td>\n      <td>NaN</td>\n    </tr>\n  </tbody>\n</table>\n<p>5 rows × 43 columns</p>\n</div>"
     },
     "metadata": {},
     "execution_count": 4
    }
   ],
   "source": [
    "indeed_2020_df.head()"
   ]
  },
  {
   "cell_type": "code",
   "execution_count": 5,
   "metadata": {},
   "outputs": [
    {
     "output_type": "execute_result",
     "data": {
      "text/plain": [
       "array(['US'], dtype=object)"
      ]
     },
     "metadata": {},
     "execution_count": 5
    }
   ],
   "source": [
    "indeed_2020_df.country.unique()"
   ]
  },
  {
   "cell_type": "code",
   "execution_count": 6,
   "metadata": {},
   "outputs": [
    {
     "output_type": "execute_result",
     "data": {
      "text/plain": [
       "['uniq_id',\n",
       " 'crawl_timestamp',\n",
       " 'url',\n",
       " 'job_title',\n",
       " 'category',\n",
       " 'company_name',\n",
       " 'city',\n",
       " 'state',\n",
       " 'country',\n",
       " 'post_date',\n",
       " 'job_description',\n",
       " 'job_type',\n",
       " 'company_description',\n",
       " 'job_board',\n",
       " 'geo',\n",
       " 'job_post_lang',\n",
       " 'inferred_iso2_lang_code',\n",
       " 'inferred_iso3_lang_code',\n",
       " 'site_name',\n",
       " 'html_job_description',\n",
       " 'domain',\n",
       " 'postdate_yyyymmdd',\n",
       " 'has_expired',\n",
       " 'last_expiry_check_date',\n",
       " 'latest_expiry_check_date',\n",
       " 'duplicate_status',\n",
       " 'postdate_in_indexname_format',\n",
       " 'inferred_city',\n",
       " 'inferred_state',\n",
       " 'inferred_country',\n",
       " 'fitness_score',\n",
       " 'inferred_salary_from',\n",
       " 'inferred_salary_to',\n",
       " 'salary_offered',\n",
       " 'test_contact_email',\n",
       " 'contact_email',\n",
       " 'inferred_salary_time_unit',\n",
       " 'inferred_salary_currency',\n",
       " 'is_currency_valid',\n",
       " 'is_salary_unit_correct',\n",
       " 'is_from_range_valid',\n",
       " 'is_to_range_valid',\n",
       " 'dataset']"
      ]
     },
     "metadata": {},
     "execution_count": 6
    }
   ],
   "source": [
    "indeed_2020_df.columns.to_list()"
   ]
  },
  {
   "cell_type": "code",
   "execution_count": 7,
   "metadata": {},
   "outputs": [
    {
     "output_type": "execute_result",
     "data": {
      "text/plain": [
       "0"
      ]
     },
     "metadata": {},
     "execution_count": 7
    }
   ],
   "source": [
    "indeed_2020_df['category'].isna().sum()"
   ]
  },
  {
   "cell_type": "code",
   "execution_count": 8,
   "metadata": {},
   "outputs": [
    {
     "output_type": "execute_result",
     "data": {
      "text/plain": [
       "                               category  uniq_id\n",
       "0                 Accounting-or-finance     1396\n",
       "1                        Administrative     3750\n",
       "2   Arts-or-entertainment-or-publishing      302\n",
       "3                      Banking-or-loans      403\n",
       "4                  Computer-or-internet     2032\n",
       "5            Construction-or-facilities     2439\n",
       "6                      Customer-Service     1215\n",
       "7                 Education-or-training     1043\n",
       "8           Engineering-or-architecture      869\n",
       "9                Government-or-military      212\n",
       "10                           Healthcare     3178\n",
       "11                Hospitality-or-travel      348\n",
       "12                      Human-Resources      592\n",
       "13                            Insurance      733\n",
       "14          Law-Enforcement-or-security      351\n",
       "15                                Legal      292\n",
       "16          Manufacturing-or-mechanical     2694\n",
       "17       Marketing-or-advertising-or-pr      670\n",
       "18              Non-profit/volunteering      419\n",
       "19              Pharmaceutical/bio-tech      169\n",
       "20                          Real-Estate      144\n",
       "21           Restaurant-or-food-Service     1504\n",
       "22                               Retail     1080\n",
       "23                                Sales     1955\n",
       "24                   Telecommunications       85\n",
       "25          Transportation-or-logistics     1508\n",
       "26       Upper-Management-or-consulting      612"
      ],
      "text/html": "<div>\n<style scoped>\n    .dataframe tbody tr th:only-of-type {\n        vertical-align: middle;\n    }\n\n    .dataframe tbody tr th {\n        vertical-align: top;\n    }\n\n    .dataframe thead th {\n        text-align: right;\n    }\n</style>\n<table border=\"1\" class=\"dataframe\">\n  <thead>\n    <tr style=\"text-align: right;\">\n      <th></th>\n      <th>category</th>\n      <th>uniq_id</th>\n    </tr>\n  </thead>\n  <tbody>\n    <tr>\n      <th>0</th>\n      <td>Accounting-or-finance</td>\n      <td>1396</td>\n    </tr>\n    <tr>\n      <th>1</th>\n      <td>Administrative</td>\n      <td>3750</td>\n    </tr>\n    <tr>\n      <th>2</th>\n      <td>Arts-or-entertainment-or-publishing</td>\n      <td>302</td>\n    </tr>\n    <tr>\n      <th>3</th>\n      <td>Banking-or-loans</td>\n      <td>403</td>\n    </tr>\n    <tr>\n      <th>4</th>\n      <td>Computer-or-internet</td>\n      <td>2032</td>\n    </tr>\n    <tr>\n      <th>5</th>\n      <td>Construction-or-facilities</td>\n      <td>2439</td>\n    </tr>\n    <tr>\n      <th>6</th>\n      <td>Customer-Service</td>\n      <td>1215</td>\n    </tr>\n    <tr>\n      <th>7</th>\n      <td>Education-or-training</td>\n      <td>1043</td>\n    </tr>\n    <tr>\n      <th>8</th>\n      <td>Engineering-or-architecture</td>\n      <td>869</td>\n    </tr>\n    <tr>\n      <th>9</th>\n      <td>Government-or-military</td>\n      <td>212</td>\n    </tr>\n    <tr>\n      <th>10</th>\n      <td>Healthcare</td>\n      <td>3178</td>\n    </tr>\n    <tr>\n      <th>11</th>\n      <td>Hospitality-or-travel</td>\n      <td>348</td>\n    </tr>\n    <tr>\n      <th>12</th>\n      <td>Human-Resources</td>\n      <td>592</td>\n    </tr>\n    <tr>\n      <th>13</th>\n      <td>Insurance</td>\n      <td>733</td>\n    </tr>\n    <tr>\n      <th>14</th>\n      <td>Law-Enforcement-or-security</td>\n      <td>351</td>\n    </tr>\n    <tr>\n      <th>15</th>\n      <td>Legal</td>\n      <td>292</td>\n    </tr>\n    <tr>\n      <th>16</th>\n      <td>Manufacturing-or-mechanical</td>\n      <td>2694</td>\n    </tr>\n    <tr>\n      <th>17</th>\n      <td>Marketing-or-advertising-or-pr</td>\n      <td>670</td>\n    </tr>\n    <tr>\n      <th>18</th>\n      <td>Non-profit/volunteering</td>\n      <td>419</td>\n    </tr>\n    <tr>\n      <th>19</th>\n      <td>Pharmaceutical/bio-tech</td>\n      <td>169</td>\n    </tr>\n    <tr>\n      <th>20</th>\n      <td>Real-Estate</td>\n      <td>144</td>\n    </tr>\n    <tr>\n      <th>21</th>\n      <td>Restaurant-or-food-Service</td>\n      <td>1504</td>\n    </tr>\n    <tr>\n      <th>22</th>\n      <td>Retail</td>\n      <td>1080</td>\n    </tr>\n    <tr>\n      <th>23</th>\n      <td>Sales</td>\n      <td>1955</td>\n    </tr>\n    <tr>\n      <th>24</th>\n      <td>Telecommunications</td>\n      <td>85</td>\n    </tr>\n    <tr>\n      <th>25</th>\n      <td>Transportation-or-logistics</td>\n      <td>1508</td>\n    </tr>\n    <tr>\n      <th>26</th>\n      <td>Upper-Management-or-consulting</td>\n      <td>612</td>\n    </tr>\n  </tbody>\n</table>\n</div>"
     },
     "metadata": {},
     "execution_count": 8
    }
   ],
   "source": [
    "indeed_2020_cat = indeed_2020_df.groupby('category').agg('count')['uniq_id'].reset_index()\n",
    "indeed_2020_cat"
   ]
  },
  {
   "source": [
    "### Drop jobs that were not posted during May and June 2020"
   ],
   "cell_type": "markdown",
   "metadata": {}
  },
  {
   "cell_type": "code",
   "execution_count": 9,
   "metadata": {},
   "outputs": [
    {
     "output_type": "execute_result",
     "data": {
      "text/plain": [
       "                                uniq_id            crawl_timestamp  \\\n",
       "0      970589e837dfe5d7b96a4edb68ed53fc  2020-06-27 22:48:05 +0000   \n",
       "1      5b8e77e647a868558bd14d77faa20d11  2020-06-03 14:34:46 +0000   \n",
       "2      ffaa733004c1791099e8481a5fead2e4  2020-05-10 03:25:40 +0000   \n",
       "3      6388e9094ff67beb57a04c1bb84613d1  2020-05-30 06:55:44 +0000   \n",
       "4      f34f23997811c9c163d9c14347725cd0  2020-05-14 07:10:50 +0000   \n",
       "...                                 ...                        ...   \n",
       "29045  df3c978e729a912b16f19b59d1472058  2020-06-20 02:46:06 +0000   \n",
       "29046  7d22175efec4bfe607ace13086c8dcfa  2020-05-14 17:44:10 +0000   \n",
       "29047  062c00200a61772c89a43090c6e8ad4a  2020-06-16 01:15:28 +0000   \n",
       "29048  333d49a311dc601890c16d72607b5131  2020-06-27 20:52:36 +0000   \n",
       "29049  63d1c1fb1c70311d0eec9df2165904af  2020-06-16 14:11:58 +0000   \n",
       "\n",
       "                                                     url  \\\n",
       "0      https://www.indeed.com/viewjob?jk=6e2f10dbcc82...   \n",
       "1      https://www.indeed.com/viewjob?jk=e2ef934dfe3d...   \n",
       "2      https://www.indeed.com/cmp/ZEELAND-FARM-SERVIC...   \n",
       "3      https://www.indeed.com/viewjob?jk=e44bcf868eea...   \n",
       "4      https://www.indeed.com/viewjob?jk=b551a641bce8...   \n",
       "...                                                  ...   \n",
       "29045  https://www.indeed.com/cmp/Law-Offices/jobs/Re...   \n",
       "29046  https://www.indeed.com/cmp/Herrington-Harbour-...   \n",
       "29047  https://www.indeed.com/cmp/Fertility-Specialis...   \n",
       "29048  https://www.indeed.com/viewjob?jk=0eb431c23fc3...   \n",
       "29049  https://www.indeed.com/cmp/Blend-Smoothie-&-Sa...   \n",
       "\n",
       "                                     job_title                    category  \\\n",
       "0                            Assistant Teacher       Education-or-training   \n",
       "1                                  Team Member  Restaurant-or-food-Service   \n",
       "2          Driver ZFS - Elevator Miscellaneous  Construction-or-facilities   \n",
       "3                    NURSE (FLIGHT OPERATIONS)       Accounting-or-finance   \n",
       "4                    Sr Mgr, Clinic Operations              Administrative   \n",
       "...                                        ...                         ...   \n",
       "29045                    Real Estate Paralegal                       Legal   \n",
       "29046  Administrative Assistant / Slip Rentals                   Insurance   \n",
       "29047                  New Patient Coordinator            Customer-Service   \n",
       "29048                       VP Medical Affairs                       Sales   \n",
       "29049                      Food Service Worker  Restaurant-or-food-Service   \n",
       "\n",
       "                                            company_name              city  \\\n",
       "0                            Tutor Time Learning Centers            Powell   \n",
       "1      Jack's Family Restaurant | Jacks Family Restau...           Gadsden   \n",
       "2                            Zeeland Farm Services, Inc.           Zeeland   \n",
       "3                         US Department of the Air Force       Keesler AFB   \n",
       "4                                                  Emory           Decatur   \n",
       "...                                                  ...               ...   \n",
       "29045                Law Offices of Gregory Schadone Ltd  North Providence   \n",
       "29046                         Herrington Harbour Marinas       North Beach   \n",
       "29047                     Fertility Specialists of Texas            Frisco   \n",
       "29048                                        Bon Secours        Portsmouth   \n",
       "29049                         Blend Smoothie & Salad Bar       New Windsor   \n",
       "\n",
       "      state country   post_date  ...         test_contact_email  \\\n",
       "0        OH      US  2020-06-27  ...                        NaN   \n",
       "1        AL      US  2020-06-03  ...                        NaN   \n",
       "2        MI      US  2020-05-10  ...                        NaN   \n",
       "3        MS      US  2020-05-30  ...                        NaN   \n",
       "4        GA      US  2020-05-14  ...                        NaN   \n",
       "...     ...     ...         ...  ...                        ...   \n",
       "29045    RI      US  2020-06-20  ...                        NaN   \n",
       "29046    MD      US  2020-05-14  ...                        NaN   \n",
       "29047    TX      US  2020-06-16  ...                        NaN   \n",
       "29048    VA      US  2020-06-27  ...  ['recruitment@mercy.com']   \n",
       "29049    NY      US  2020-06-16  ...                        NaN   \n",
       "\n",
       "               contact_email inferred_salary_time_unit  \\\n",
       "0                        NaN                       NaN   \n",
       "1                        NaN                       NaN   \n",
       "2                        NaN                       NaN   \n",
       "3                        NaN                       NaN   \n",
       "4                        NaN                       NaN   \n",
       "...                      ...                       ...   \n",
       "29045                    NaN                       NaN   \n",
       "29046                    NaN                       NaN   \n",
       "29047                    NaN                       NaN   \n",
       "29048  recruitment@mercy.com                       NaN   \n",
       "29049                    NaN                       NaN   \n",
       "\n",
       "      inferred_salary_currency is_currency_valid is_salary_unit_correct  \\\n",
       "0                          NaN               NaN                    NaN   \n",
       "1                          NaN               NaN                    NaN   \n",
       "2                          NaN               NaN                    NaN   \n",
       "3                          NaN               NaN                    NaN   \n",
       "4                          NaN               NaN                    NaN   \n",
       "...                        ...               ...                    ...   \n",
       "29045                      NaN               NaN                    NaN   \n",
       "29046                      NaN               NaN                    NaN   \n",
       "29047                      NaN               NaN                    NaN   \n",
       "29048                      NaN               NaN                    NaN   \n",
       "29049                      NaN               NaN                    NaN   \n",
       "\n",
       "      is_from_range_valid is_to_range_valid dataset posted_month  \n",
       "0                     NaN               NaN     NaN            6  \n",
       "1                     NaN               NaN     NaN            6  \n",
       "2                     NaN               NaN     NaN            5  \n",
       "3                     NaN               NaN     NaN            5  \n",
       "4                     NaN               NaN     NaN            5  \n",
       "...                   ...               ...     ...          ...  \n",
       "29045                 NaN               NaN     NaN            6  \n",
       "29046                 NaN               NaN     NaN            5  \n",
       "29047                 NaN               NaN     NaN            6  \n",
       "29048                 NaN               NaN     NaN            6  \n",
       "29049                 NaN               NaN     NaN            6  \n",
       "\n",
       "[29050 rows x 44 columns]"
      ],
      "text/html": "<div>\n<style scoped>\n    .dataframe tbody tr th:only-of-type {\n        vertical-align: middle;\n    }\n\n    .dataframe tbody tr th {\n        vertical-align: top;\n    }\n\n    .dataframe thead th {\n        text-align: right;\n    }\n</style>\n<table border=\"1\" class=\"dataframe\">\n  <thead>\n    <tr style=\"text-align: right;\">\n      <th></th>\n      <th>uniq_id</th>\n      <th>crawl_timestamp</th>\n      <th>url</th>\n      <th>job_title</th>\n      <th>category</th>\n      <th>company_name</th>\n      <th>city</th>\n      <th>state</th>\n      <th>country</th>\n      <th>post_date</th>\n      <th>...</th>\n      <th>test_contact_email</th>\n      <th>contact_email</th>\n      <th>inferred_salary_time_unit</th>\n      <th>inferred_salary_currency</th>\n      <th>is_currency_valid</th>\n      <th>is_salary_unit_correct</th>\n      <th>is_from_range_valid</th>\n      <th>is_to_range_valid</th>\n      <th>dataset</th>\n      <th>posted_month</th>\n    </tr>\n  </thead>\n  <tbody>\n    <tr>\n      <th>0</th>\n      <td>970589e837dfe5d7b96a4edb68ed53fc</td>\n      <td>2020-06-27 22:48:05 +0000</td>\n      <td>https://www.indeed.com/viewjob?jk=6e2f10dbcc82...</td>\n      <td>Assistant Teacher</td>\n      <td>Education-or-training</td>\n      <td>Tutor Time Learning Centers</td>\n      <td>Powell</td>\n      <td>OH</td>\n      <td>US</td>\n      <td>2020-06-27</td>\n      <td>...</td>\n      <td>NaN</td>\n      <td>NaN</td>\n      <td>NaN</td>\n      <td>NaN</td>\n      <td>NaN</td>\n      <td>NaN</td>\n      <td>NaN</td>\n      <td>NaN</td>\n      <td>NaN</td>\n      <td>6</td>\n    </tr>\n    <tr>\n      <th>1</th>\n      <td>5b8e77e647a868558bd14d77faa20d11</td>\n      <td>2020-06-03 14:34:46 +0000</td>\n      <td>https://www.indeed.com/viewjob?jk=e2ef934dfe3d...</td>\n      <td>Team Member</td>\n      <td>Restaurant-or-food-Service</td>\n      <td>Jack's Family Restaurant | Jacks Family Restau...</td>\n      <td>Gadsden</td>\n      <td>AL</td>\n      <td>US</td>\n      <td>2020-06-03</td>\n      <td>...</td>\n      <td>NaN</td>\n      <td>NaN</td>\n      <td>NaN</td>\n      <td>NaN</td>\n      <td>NaN</td>\n      <td>NaN</td>\n      <td>NaN</td>\n      <td>NaN</td>\n      <td>NaN</td>\n      <td>6</td>\n    </tr>\n    <tr>\n      <th>2</th>\n      <td>ffaa733004c1791099e8481a5fead2e4</td>\n      <td>2020-05-10 03:25:40 +0000</td>\n      <td>https://www.indeed.com/cmp/ZEELAND-FARM-SERVIC...</td>\n      <td>Driver ZFS - Elevator Miscellaneous</td>\n      <td>Construction-or-facilities</td>\n      <td>Zeeland Farm Services, Inc.</td>\n      <td>Zeeland</td>\n      <td>MI</td>\n      <td>US</td>\n      <td>2020-05-10</td>\n      <td>...</td>\n      <td>NaN</td>\n      <td>NaN</td>\n      <td>NaN</td>\n      <td>NaN</td>\n      <td>NaN</td>\n      <td>NaN</td>\n      <td>NaN</td>\n      <td>NaN</td>\n      <td>NaN</td>\n      <td>5</td>\n    </tr>\n    <tr>\n      <th>3</th>\n      <td>6388e9094ff67beb57a04c1bb84613d1</td>\n      <td>2020-05-30 06:55:44 +0000</td>\n      <td>https://www.indeed.com/viewjob?jk=e44bcf868eea...</td>\n      <td>NURSE (FLIGHT OPERATIONS)</td>\n      <td>Accounting-or-finance</td>\n      <td>US Department of the Air Force</td>\n      <td>Keesler AFB</td>\n      <td>MS</td>\n      <td>US</td>\n      <td>2020-05-30</td>\n      <td>...</td>\n      <td>NaN</td>\n      <td>NaN</td>\n      <td>NaN</td>\n      <td>NaN</td>\n      <td>NaN</td>\n      <td>NaN</td>\n      <td>NaN</td>\n      <td>NaN</td>\n      <td>NaN</td>\n      <td>5</td>\n    </tr>\n    <tr>\n      <th>4</th>\n      <td>f34f23997811c9c163d9c14347725cd0</td>\n      <td>2020-05-14 07:10:50 +0000</td>\n      <td>https://www.indeed.com/viewjob?jk=b551a641bce8...</td>\n      <td>Sr Mgr, Clinic Operations</td>\n      <td>Administrative</td>\n      <td>Emory</td>\n      <td>Decatur</td>\n      <td>GA</td>\n      <td>US</td>\n      <td>2020-05-14</td>\n      <td>...</td>\n      <td>NaN</td>\n      <td>NaN</td>\n      <td>NaN</td>\n      <td>NaN</td>\n      <td>NaN</td>\n      <td>NaN</td>\n      <td>NaN</td>\n      <td>NaN</td>\n      <td>NaN</td>\n      <td>5</td>\n    </tr>\n    <tr>\n      <th>...</th>\n      <td>...</td>\n      <td>...</td>\n      <td>...</td>\n      <td>...</td>\n      <td>...</td>\n      <td>...</td>\n      <td>...</td>\n      <td>...</td>\n      <td>...</td>\n      <td>...</td>\n      <td>...</td>\n      <td>...</td>\n      <td>...</td>\n      <td>...</td>\n      <td>...</td>\n      <td>...</td>\n      <td>...</td>\n      <td>...</td>\n      <td>...</td>\n      <td>...</td>\n      <td>...</td>\n    </tr>\n    <tr>\n      <th>29045</th>\n      <td>df3c978e729a912b16f19b59d1472058</td>\n      <td>2020-06-20 02:46:06 +0000</td>\n      <td>https://www.indeed.com/cmp/Law-Offices/jobs/Re...</td>\n      <td>Real Estate Paralegal</td>\n      <td>Legal</td>\n      <td>Law Offices of Gregory Schadone Ltd</td>\n      <td>North Providence</td>\n      <td>RI</td>\n      <td>US</td>\n      <td>2020-06-20</td>\n      <td>...</td>\n      <td>NaN</td>\n      <td>NaN</td>\n      <td>NaN</td>\n      <td>NaN</td>\n      <td>NaN</td>\n      <td>NaN</td>\n      <td>NaN</td>\n      <td>NaN</td>\n      <td>NaN</td>\n      <td>6</td>\n    </tr>\n    <tr>\n      <th>29046</th>\n      <td>7d22175efec4bfe607ace13086c8dcfa</td>\n      <td>2020-05-14 17:44:10 +0000</td>\n      <td>https://www.indeed.com/cmp/Herrington-Harbour-...</td>\n      <td>Administrative Assistant / Slip Rentals</td>\n      <td>Insurance</td>\n      <td>Herrington Harbour Marinas</td>\n      <td>North Beach</td>\n      <td>MD</td>\n      <td>US</td>\n      <td>2020-05-14</td>\n      <td>...</td>\n      <td>NaN</td>\n      <td>NaN</td>\n      <td>NaN</td>\n      <td>NaN</td>\n      <td>NaN</td>\n      <td>NaN</td>\n      <td>NaN</td>\n      <td>NaN</td>\n      <td>NaN</td>\n      <td>5</td>\n    </tr>\n    <tr>\n      <th>29047</th>\n      <td>062c00200a61772c89a43090c6e8ad4a</td>\n      <td>2020-06-16 01:15:28 +0000</td>\n      <td>https://www.indeed.com/cmp/Fertility-Specialis...</td>\n      <td>New Patient Coordinator</td>\n      <td>Customer-Service</td>\n      <td>Fertility Specialists of Texas</td>\n      <td>Frisco</td>\n      <td>TX</td>\n      <td>US</td>\n      <td>2020-06-16</td>\n      <td>...</td>\n      <td>NaN</td>\n      <td>NaN</td>\n      <td>NaN</td>\n      <td>NaN</td>\n      <td>NaN</td>\n      <td>NaN</td>\n      <td>NaN</td>\n      <td>NaN</td>\n      <td>NaN</td>\n      <td>6</td>\n    </tr>\n    <tr>\n      <th>29048</th>\n      <td>333d49a311dc601890c16d72607b5131</td>\n      <td>2020-06-27 20:52:36 +0000</td>\n      <td>https://www.indeed.com/viewjob?jk=0eb431c23fc3...</td>\n      <td>VP Medical Affairs</td>\n      <td>Sales</td>\n      <td>Bon Secours</td>\n      <td>Portsmouth</td>\n      <td>VA</td>\n      <td>US</td>\n      <td>2020-06-27</td>\n      <td>...</td>\n      <td>['recruitment@mercy.com']</td>\n      <td>recruitment@mercy.com</td>\n      <td>NaN</td>\n      <td>NaN</td>\n      <td>NaN</td>\n      <td>NaN</td>\n      <td>NaN</td>\n      <td>NaN</td>\n      <td>NaN</td>\n      <td>6</td>\n    </tr>\n    <tr>\n      <th>29049</th>\n      <td>63d1c1fb1c70311d0eec9df2165904af</td>\n      <td>2020-06-16 14:11:58 +0000</td>\n      <td>https://www.indeed.com/cmp/Blend-Smoothie-&amp;-Sa...</td>\n      <td>Food Service Worker</td>\n      <td>Restaurant-or-food-Service</td>\n      <td>Blend Smoothie &amp; Salad Bar</td>\n      <td>New Windsor</td>\n      <td>NY</td>\n      <td>US</td>\n      <td>2020-06-16</td>\n      <td>...</td>\n      <td>NaN</td>\n      <td>NaN</td>\n      <td>NaN</td>\n      <td>NaN</td>\n      <td>NaN</td>\n      <td>NaN</td>\n      <td>NaN</td>\n      <td>NaN</td>\n      <td>NaN</td>\n      <td>6</td>\n    </tr>\n  </tbody>\n</table>\n<p>29050 rows × 44 columns</p>\n</div>"
     },
     "metadata": {},
     "execution_count": 9
    }
   ],
   "source": [
    "selected_months = [5, 6]\n",
    "indeed_2020_df['posted_month'] =pd.DatetimeIndex(indeed_2020_df['postdate_yyyymmdd']).month\n",
    "indeed_2020_filtered = indeed_2020_df.loc[ indeed_2020_df['posted_month'].isin(selected_months)]\n",
    "indeed_2020_filtered.reset_index(drop = True, inplace = True)\n",
    "indeed_2020_filtered"
   ]
  },
  {
   "cell_type": "code",
   "execution_count": 10,
   "metadata": {},
   "outputs": [
    {
     "output_type": "execute_result",
     "data": {
      "text/plain": [
       "posted_month\n",
       "5    14071\n",
       "6    14979\n",
       "dtype: int64"
      ]
     },
     "metadata": {},
     "execution_count": 10
    }
   ],
   "source": [
    "indeed_2020_filtered.groupby('posted_month').size()"
   ]
  },
  {
   "source": [
    "### Select jobs based on categories "
   ],
   "cell_type": "markdown",
   "metadata": {}
  },
  {
   "cell_type": "code",
   "execution_count": 11,
   "metadata": {},
   "outputs": [],
   "source": [
    "selected_categories = ['Computer-or-internet', 'Healthcare', 'Retail', 'Restaurant-or-food-Service']\n",
    "indeed_2020_filtered = indeed_2020_filtered.loc[ indeed_2020_filtered['category'].isin(selected_categories)]\n",
    "indeed_2020_filtered.reset_index(drop= True, inplace=True)"
   ]
  },
  {
   "cell_type": "code",
   "execution_count": 12,
   "metadata": {},
   "outputs": [
    {
     "output_type": "execute_result",
     "data": {
      "text/plain": [
       "category\n",
       "Computer-or-internet          1944\n",
       "Healthcare                    3115\n",
       "Restaurant-or-food-Service    1461\n",
       "Retail                        1041\n",
       "dtype: int64"
      ]
     },
     "metadata": {},
     "execution_count": 12
    }
   ],
   "source": [
    "indeed_2020_filtered.groupby('category').size()"
   ]
  },
  {
   "cell_type": "code",
   "execution_count": 13,
   "metadata": {},
   "outputs": [
    {
     "output_type": "execute_result",
     "data": {
      "text/plain": [
       "category                    posted_month\n",
       "Computer-or-internet        5                943\n",
       "                            6               1001\n",
       "Healthcare                  5               1495\n",
       "                            6               1620\n",
       "Restaurant-or-food-Service  5                583\n",
       "                            6                878\n",
       "Retail                      5                479\n",
       "                            6                562\n",
       "dtype: int64"
      ]
     },
     "metadata": {},
     "execution_count": 13
    }
   ],
   "source": [
    "indeed_2020_filtered.groupby(['category','posted_month']).size()"
   ]
  },
  {
   "cell_type": "code",
   "execution_count": 14,
   "metadata": {},
   "outputs": [
    {
     "output_type": "execute_result",
     "data": {
      "text/plain": [
       "                            uniq_id  \\\n",
       "0  5b8e77e647a868558bd14d77faa20d11   \n",
       "1  12f862ed9eeada12ca7a15d2163c4351   \n",
       "2  68f57af0b7eaff77b6d7a06748d92604   \n",
       "3  50873a53f1c51b599030a9edc8e2ea4a   \n",
       "4  2862980353e9a2c8cbf8adf5f662961d   \n",
       "\n",
       "                                           job_title  \\\n",
       "0                                        Team Member   \n",
       "1  Clinical Nurse(PT) 24 hours, Radiation Oncolog...   \n",
       "2                                   Nurse Specialist   \n",
       "3                          Grill/Fry Cook (Seasonal)   \n",
       "4                           Business Systems Analyst   \n",
       "\n",
       "                     category  \\\n",
       "0  Restaurant-or-food-Service   \n",
       "1                  Healthcare   \n",
       "2                  Healthcare   \n",
       "3  Restaurant-or-food-Service   \n",
       "4        Computer-or-internet   \n",
       "\n",
       "                                        company_name        city state  \\\n",
       "0  Jack's Family Restaurant | Jacks Family Restau...     Gadsden    AL   \n",
       "1                                   D-H Lebanon-MHMH     Lebanon    NH   \n",
       "2                           East Carolina University  Greenville    NC   \n",
       "3                            Whale's Tale Water Park     Lincoln    NH   \n",
       "4                                City of El Paso, TX     El Paso    TX   \n",
       "\n",
       "  country   post_date                                    job_description  \\\n",
       "0      US  2020-06-03  JOB TITLE: Team Member Job Summary Prepare and...   \n",
       "1      US  2020-06-21  The Clinical Nurse is an engaged and credentia...   \n",
       "2      US  2020-06-09  The primary function of this position will be ...   \n",
       "3      US  2020-05-21  We're looking for a Grill/Fry Cook for the sum...   \n",
       "4      US  2020-05-21  Requirements Candidate must have a Bachelor's ...   \n",
       "\n",
       "    job_type                                company_description  \\\n",
       "0        NaN  Jack’s Family Restaurants was started in 1960 ...   \n",
       "1  Part-time  Dartmouth-Hitchcock Medical Center (DHMC) is a...   \n",
       "2        NaN  East Carolina University is a public, doctoral...   \n",
       "3        NaN                                                NaN   \n",
       "4        NaN                                                NaN   \n",
       "\n",
       "                                html_job_description inferred_city  \\\n",
       "0  <div id=\"jobDescriptionText\" class=\"jobsearch-...       Gadsden   \n",
       "1  <div id=\"jobDescriptionText\" class=\"jobsearch-...       Lebanon   \n",
       "2  <div id=\"jobDescriptionText\" class=\"jobsearch-...    Greenville   \n",
       "3  <div id=\"jobDescriptionText\" class=\"jobsearch-...       Lincoln   \n",
       "4  <div id=\"jobDescriptionText\" class=\"jobsearch-...       El paso   \n",
       "\n",
       "   inferred_state inferred_country  fitness_score inferred_salary_from  \\\n",
       "0         Alabama    United states             10                  NaN   \n",
       "1   New hampshire    United states             10                  NaN   \n",
       "2  North carolina    United states             10                    .   \n",
       "3   New hampshire    United states             10                 9.00   \n",
       "4           Texas    United states             10                    .   \n",
       "\n",
       "  inferred_salary_to                                     salary_offered  \n",
       "0                NaN                                                NaN  \n",
       "1                NaN                                                NaN  \n",
       "2                  .  If no applicants apply who meet the required c...  \n",
       "3              13.00                      Salary: $9.00 to $13.00 /hour  \n",
       "4                  .  For complete job specification, click here. Sa...  "
      ],
      "text/html": "<div>\n<style scoped>\n    .dataframe tbody tr th:only-of-type {\n        vertical-align: middle;\n    }\n\n    .dataframe tbody tr th {\n        vertical-align: top;\n    }\n\n    .dataframe thead th {\n        text-align: right;\n    }\n</style>\n<table border=\"1\" class=\"dataframe\">\n  <thead>\n    <tr style=\"text-align: right;\">\n      <th></th>\n      <th>uniq_id</th>\n      <th>job_title</th>\n      <th>category</th>\n      <th>company_name</th>\n      <th>city</th>\n      <th>state</th>\n      <th>country</th>\n      <th>post_date</th>\n      <th>job_description</th>\n      <th>job_type</th>\n      <th>company_description</th>\n      <th>html_job_description</th>\n      <th>inferred_city</th>\n      <th>inferred_state</th>\n      <th>inferred_country</th>\n      <th>fitness_score</th>\n      <th>inferred_salary_from</th>\n      <th>inferred_salary_to</th>\n      <th>salary_offered</th>\n    </tr>\n  </thead>\n  <tbody>\n    <tr>\n      <th>0</th>\n      <td>5b8e77e647a868558bd14d77faa20d11</td>\n      <td>Team Member</td>\n      <td>Restaurant-or-food-Service</td>\n      <td>Jack's Family Restaurant | Jacks Family Restau...</td>\n      <td>Gadsden</td>\n      <td>AL</td>\n      <td>US</td>\n      <td>2020-06-03</td>\n      <td>JOB TITLE: Team Member Job Summary Prepare and...</td>\n      <td>NaN</td>\n      <td>Jack’s Family Restaurants was started in 1960 ...</td>\n      <td>&lt;div id=\"jobDescriptionText\" class=\"jobsearch-...</td>\n      <td>Gadsden</td>\n      <td>Alabama</td>\n      <td>United states</td>\n      <td>10</td>\n      <td>NaN</td>\n      <td>NaN</td>\n      <td>NaN</td>\n    </tr>\n    <tr>\n      <th>1</th>\n      <td>12f862ed9eeada12ca7a15d2163c4351</td>\n      <td>Clinical Nurse(PT) 24 hours, Radiation Oncolog...</td>\n      <td>Healthcare</td>\n      <td>D-H Lebanon-MHMH</td>\n      <td>Lebanon</td>\n      <td>NH</td>\n      <td>US</td>\n      <td>2020-06-21</td>\n      <td>The Clinical Nurse is an engaged and credentia...</td>\n      <td>Part-time</td>\n      <td>Dartmouth-Hitchcock Medical Center (DHMC) is a...</td>\n      <td>&lt;div id=\"jobDescriptionText\" class=\"jobsearch-...</td>\n      <td>Lebanon</td>\n      <td>New hampshire</td>\n      <td>United states</td>\n      <td>10</td>\n      <td>NaN</td>\n      <td>NaN</td>\n      <td>NaN</td>\n    </tr>\n    <tr>\n      <th>2</th>\n      <td>68f57af0b7eaff77b6d7a06748d92604</td>\n      <td>Nurse Specialist</td>\n      <td>Healthcare</td>\n      <td>East Carolina University</td>\n      <td>Greenville</td>\n      <td>NC</td>\n      <td>US</td>\n      <td>2020-06-09</td>\n      <td>The primary function of this position will be ...</td>\n      <td>NaN</td>\n      <td>East Carolina University is a public, doctoral...</td>\n      <td>&lt;div id=\"jobDescriptionText\" class=\"jobsearch-...</td>\n      <td>Greenville</td>\n      <td>North carolina</td>\n      <td>United states</td>\n      <td>10</td>\n      <td>.</td>\n      <td>.</td>\n      <td>If no applicants apply who meet the required c...</td>\n    </tr>\n    <tr>\n      <th>3</th>\n      <td>50873a53f1c51b599030a9edc8e2ea4a</td>\n      <td>Grill/Fry Cook (Seasonal)</td>\n      <td>Restaurant-or-food-Service</td>\n      <td>Whale's Tale Water Park</td>\n      <td>Lincoln</td>\n      <td>NH</td>\n      <td>US</td>\n      <td>2020-05-21</td>\n      <td>We're looking for a Grill/Fry Cook for the sum...</td>\n      <td>NaN</td>\n      <td>NaN</td>\n      <td>&lt;div id=\"jobDescriptionText\" class=\"jobsearch-...</td>\n      <td>Lincoln</td>\n      <td>New hampshire</td>\n      <td>United states</td>\n      <td>10</td>\n      <td>9.00</td>\n      <td>13.00</td>\n      <td>Salary: $9.00 to $13.00 /hour</td>\n    </tr>\n    <tr>\n      <th>4</th>\n      <td>2862980353e9a2c8cbf8adf5f662961d</td>\n      <td>Business Systems Analyst</td>\n      <td>Computer-or-internet</td>\n      <td>City of El Paso, TX</td>\n      <td>El Paso</td>\n      <td>TX</td>\n      <td>US</td>\n      <td>2020-05-21</td>\n      <td>Requirements Candidate must have a Bachelor's ...</td>\n      <td>NaN</td>\n      <td>NaN</td>\n      <td>&lt;div id=\"jobDescriptionText\" class=\"jobsearch-...</td>\n      <td>El paso</td>\n      <td>Texas</td>\n      <td>United states</td>\n      <td>10</td>\n      <td>.</td>\n      <td>.</td>\n      <td>For complete job specification, click here. Sa...</td>\n    </tr>\n  </tbody>\n</table>\n</div>"
     },
     "metadata": {},
     "execution_count": 14
    }
   ],
   "source": [
    "indeed_2020_filtered[ ['uniq_id','job_title','category','company_name','city','state','country','post_date','job_description','job_type','company_description','html_job_description','inferred_city', 'inferred_state', 'inferred_country', 'fitness_score','inferred_salary_from','inferred_salary_to','salary_offered']].head()"
   ]
  },
  {
   "cell_type": "code",
   "execution_count": 17,
   "metadata": {},
   "outputs": [
    {
     "output_type": "stream",
     "name": "stdout",
     "text": [
      "4    Requirements Candidate must have a Bachelor's ...\nName: job_description, dtype: object\n"
     ]
    }
   ],
   "source": [
    "print(indeed_2020_filtered.loc[indeed_2020_filtered['uniq_id']== '2862980353e9a2c8cbf8adf5f662961d']['job_description'])"
   ]
  },
  {
   "cell_type": "code",
   "execution_count": 21,
   "metadata": {},
   "outputs": [],
   "source": [
    "it_df = indeed_2020_filtered.loc[indeed_2020_filtered['category']== 'Computer-or-internet']\n",
    "it_df.reset_index(drop = True, inplace = True)\n",
    "it_df.to_csv('../processed_data/2020/20200501_20200630_IT.csv')\n",
    "\n",
    "healthcare_df = indeed_2020_filtered.loc[indeed_2020_filtered['category']== 'Healthcare']\n",
    "healthcare_df.reset_index(drop = True, inplace = True)\n",
    "healthcare_df.to_csv('../processed_data/2020/20200501_20200630_healthcare.csv')\n",
    "\n",
    "retail_df = indeed_2020_filtered.loc[indeed_2020_filtered['category']== 'Retail']\n",
    "retail_df.reset_index(drop = True, inplace = True)\n",
    "retail_df.to_csv('../processed_data/2020/20200501_20200630_retail.csv')\n",
    "\n",
    "food_df = indeed_2020_filtered.loc[indeed_2020_filtered['category']== 'Restaurant-or-food-Service']\n",
    "food_df.reset_index(drop = True, inplace = True)\n",
    "food_df.to_csv('../processed_data/2020/20200501_20200630_food.csv')"
   ]
  },
  {
   "cell_type": "code",
   "execution_count": null,
   "metadata": {},
   "outputs": [],
   "source": []
  }
 ]
}